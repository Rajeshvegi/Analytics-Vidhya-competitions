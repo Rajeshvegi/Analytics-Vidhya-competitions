{
 "cells": [
  {
   "cell_type": "code",
   "execution_count": 1,
   "metadata": {
    "collapsed": false
   },
   "outputs": [
    {
     "name": "stdout",
     "output_type": "stream",
     "text": [
      "welcome\n"
     ]
    }
   ],
   "source": [
    "import numpy as np # linear algebra\n",
    "import pandas as pd # data processing, CSV file I/O (e.g. pd.read_csv)\n",
    "import os\n",
    "import gc\n",
    "import matplotlib.pyplot as plt\n",
    "import seaborn as sns\n",
    "import xgboost as xgb\n",
    "print ('welcome')\n"
   ]
  },
  {
   "cell_type": "code",
   "execution_count": 19,
   "metadata": {
    "collapsed": false
   },
   "outputs": [],
   "source": [
    "df_c_train = pd.read_csv('E://Data Science/AV/Minisolve/traindata_new1.csv')\n",
    "df_c_test = pd.read_csv('E://Data Science/AV/Minisolve/testdata_new1.csv')\n",
    "#df_c_train = pd.read_csv('E://Data Science/AV/XML/Contacts_Pre_2017_XL_train.csv')\n",
    "#df_c_test = pd.read_csv('E://Data Science/AV/XML/Contacts_Pre_2017_XL_valid.csv')\n",
    "x_train = pd.DataFrame()\n",
    "x_test = pd.DataFrame()\n",
    "y_train = pd.DataFrame()"
   ]
  },
  {
   "cell_type": "code",
   "execution_count": 20,
   "metadata": {
    "collapsed": true
   },
   "outputs": [],
   "source": [
    "x_train['A'] = df_c_train['A']\n",
    "x_train['B'] = df_c_train['B']\n",
    "x_train['G'] = df_c_train['G']\n",
    "x_train['C'] = df_c_train['C']\n",
    "x_train['R'] = df_c_train['R']\n",
    "x_train['Other'] = df_c_train['Other']\n",
    "x_train['F'] = df_c_train['F']\n",
    "x_train['N'] = df_c_train['N']\n",
    "x_train['NA'] = df_c_train['NA']\n",
    "x_train['P'] = df_c_train['P']\n",
    "x_train['U'] = df_c_train['U']\n",
    "x_train['E'] = df_c_train['E']\n",
    "x_train['L'] = df_c_train['L']\n",
    "x_train['D'] = df_c_train['D']\n",
    "x_train['I'] = df_c_train['I']\n",
    "x_train['J'] = df_c_train['J']\n",
    "x_train['M'] = df_c_train['M']\n",
    "x_train['S'] = df_c_train['S']\n",
    "x_train['V'] = df_c_train['V']\n",
    "x_train['K'] = df_c_train['K']\n",
    "x_train['Q'] = df_c_train['Q']\n",
    "x_train['W'] = df_c_train['W']\n",
    "x_train['T'] = df_c_train['T']\n",
    "x_train['O'] = df_c_train['O']\n",
    "x_train['age'] = df_c_train['age']\n",
    "x_train['VintageMonths'] = df_c_train['VintageMonths']\n",
    "x_train['VintageMonths'] = df_c_train['VintageMonths']\n",
    "x_train['NumberOfArticlesBySameAuthor'] = df_c_train['NumberOfArticlesBySameAuthor']\n",
    "x_train['NumberOfArticlesinSameCategory'] = df_c_train['NumberOfArticlesinSameCategory']\n"
   ]
  },
  {
   "cell_type": "code",
   "execution_count": 21,
   "metadata": {
    "collapsed": false
   },
   "outputs": [],
   "source": [
    "x_test['A'] = df_c_test['A']\n",
    "x_test['B'] = df_c_test['B']\n",
    "x_test['G'] = df_c_test['G']\n",
    "x_test['C'] = df_c_test['C']\n",
    "x_test['R'] = df_c_test['R']\n",
    "x_test['Other'] = df_c_test['Other']\n",
    "x_test['F'] = df_c_test['F']\n",
    "x_test['N'] = df_c_test['N']\n",
    "x_test['NA'] = df_c_test['NA']\n",
    "x_test['P'] = df_c_test['P']\n",
    "x_test['U'] = df_c_test['U']\n",
    "x_test['E'] = df_c_test['E']\n",
    "x_test['L'] = df_c_test['L']\n",
    "x_test['D'] = df_c_test['D']\n",
    "x_test['I'] = df_c_test['I']\n",
    "x_test['J'] = df_c_test['J']\n",
    "x_test['M'] = df_c_test['M']\n",
    "x_test['S'] = df_c_test['S']\n",
    "x_test['V'] = df_c_test['V']\n",
    "x_test['K'] = df_c_test['K']\n",
    "x_test['Q'] = df_c_test['Q']\n",
    "x_test['W'] = df_c_test['W']\n",
    "x_test['T'] = df_c_test['T']\n",
    "x_test['O'] = df_c_test['O']\n",
    "x_test['age'] = df_c_test['age']\n",
    "x_test['VintageMonths'] = df_c_test['VintageMonths']\n",
    "x_test['VintageMonths'] = df_c_test['VintageMonths']\n",
    "x_test['NumberOfArticlesBySameAuthor'] = df_c_test['NumberOfArticlesBySameAuthor']\n",
    "x_test['NumberOfArticlesinSameCategory'] = df_c_test['NumberOfArticlesinSameCategory']\n"
   ]
  },
  {
   "cell_type": "code",
   "execution_count": 22,
   "metadata": {
    "collapsed": true
   },
   "outputs": [],
   "source": [
    "y_train['Rating'] = df_c_train['Rating']"
   ]
  },
  {
   "cell_type": "code",
   "execution_count": 23,
   "metadata": {
    "collapsed": false
   },
   "outputs": [
    {
     "name": "stdout",
     "output_type": "stream",
     "text": [
      "[0]\ttrain-rmse:2.21592\n",
      "Will train until train-rmse hasn't improved in 50 rounds.\n",
      "[10]\ttrain-rmse:2.15592\n",
      "[20]\ttrain-rmse:2.11441\n",
      "[30]\ttrain-rmse:2.08546\n",
      "[40]\ttrain-rmse:2.06548\n",
      "[50]\ttrain-rmse:2.05154\n",
      "[60]\ttrain-rmse:2.0417\n",
      "[70]\ttrain-rmse:2.03472\n",
      "[80]\ttrain-rmse:2.02941\n",
      "[90]\ttrain-rmse:2.02542\n",
      "[100]\ttrain-rmse:2.0224\n",
      "[110]\ttrain-rmse:2.01997\n",
      "[120]\ttrain-rmse:2.01802\n",
      "[130]\ttrain-rmse:2.01635\n",
      "[140]\ttrain-rmse:2.01493\n",
      "[150]\ttrain-rmse:2.01366\n",
      "[160]\ttrain-rmse:2.01252\n",
      "[170]\ttrain-rmse:2.01155\n",
      "[180]\ttrain-rmse:2.01077\n",
      "[190]\ttrain-rmse:2.0101\n",
      "[200]\ttrain-rmse:2.00951\n",
      "[210]\ttrain-rmse:2.00892\n",
      "[220]\ttrain-rmse:2.00834\n",
      "[230]\ttrain-rmse:2.0078\n",
      "[240]\ttrain-rmse:2.00723\n",
      "[250]\ttrain-rmse:2.00665\n",
      "[260]\ttrain-rmse:2.00611\n",
      "[270]\ttrain-rmse:2.00557\n",
      "[280]\ttrain-rmse:2.00503\n",
      "[290]\ttrain-rmse:2.00454\n",
      "[300]\ttrain-rmse:2.00413\n",
      "[310]\ttrain-rmse:2.00369\n",
      "[320]\ttrain-rmse:2.00325\n",
      "[330]\ttrain-rmse:2.00285\n",
      "[340]\ttrain-rmse:2.00241\n",
      "[350]\ttrain-rmse:2.00204\n",
      "[360]\ttrain-rmse:2.00169\n",
      "[370]\ttrain-rmse:2.00134\n",
      "[380]\ttrain-rmse:2.00095\n",
      "[390]\ttrain-rmse:2.00046\n",
      "[400]\ttrain-rmse:1.99996\n",
      "[410]\ttrain-rmse:1.9996\n",
      "[420]\ttrain-rmse:1.99925\n",
      "[430]\ttrain-rmse:1.9988\n",
      "[440]\ttrain-rmse:1.99831\n",
      "[450]\ttrain-rmse:1.99788\n",
      "[460]\ttrain-rmse:1.99735\n",
      "[470]\ttrain-rmse:1.99685\n",
      "[480]\ttrain-rmse:1.99646\n",
      "[490]\ttrain-rmse:1.99603\n",
      "[500]\ttrain-rmse:1.99561\n",
      "[510]\ttrain-rmse:1.99517\n",
      "[520]\ttrain-rmse:1.99473\n",
      "[530]\ttrain-rmse:1.99417\n",
      "[540]\ttrain-rmse:1.99368\n",
      "[550]\ttrain-rmse:1.99335\n",
      "[560]\ttrain-rmse:1.99305\n",
      "[570]\ttrain-rmse:1.9927\n",
      "[580]\ttrain-rmse:1.9922\n",
      "[590]\ttrain-rmse:1.99178\n",
      "[600]\ttrain-rmse:1.99138\n",
      "[610]\ttrain-rmse:1.99103\n",
      "[620]\ttrain-rmse:1.99058\n",
      "[630]\ttrain-rmse:1.9902\n",
      "[640]\ttrain-rmse:1.98982\n",
      "[650]\ttrain-rmse:1.98933\n",
      "[660]\ttrain-rmse:1.98889\n",
      "[670]\ttrain-rmse:1.98836\n",
      "[680]\ttrain-rmse:1.98782\n",
      "[690]\ttrain-rmse:1.98743\n",
      "[700]\ttrain-rmse:1.98719\n",
      "[710]\ttrain-rmse:1.98691\n",
      "[720]\ttrain-rmse:1.98654\n",
      "[730]\ttrain-rmse:1.98607\n",
      "[740]\ttrain-rmse:1.98578\n",
      "[750]\ttrain-rmse:1.98545\n",
      "[760]\ttrain-rmse:1.98492\n",
      "[770]\ttrain-rmse:1.98456\n",
      "[780]\ttrain-rmse:1.98425\n",
      "[790]\ttrain-rmse:1.98379\n",
      "[799]\ttrain-rmse:1.98337\n"
     ]
    }
   ],
   "source": [
    "import xgboost as xgb\n",
    "\n",
    "# Set our parameters for xgboost\n",
    "params = {}\n",
    "#params['objective'] = 'count:poisson'\n",
    "params['objective'] = 'reg:linear'\n",
    "params['eval_metric'] = 'rmse'\n",
    "#params['eval_metric'] = 'logloss'\n",
    "params['eta'] = 0.02\n",
    "params['max_depth'] = 8\n",
    "\n",
    "d_train = xgb.DMatrix(x_train, label=y_train)\n",
    "\n",
    "watchlist = [(d_train, 'train')]\n",
    "\n",
    "bst = xgb.train(params, d_train, 800, watchlist, early_stopping_rounds=50, verbose_eval=10)"
   ]
  },
  {
   "cell_type": "code",
   "execution_count": null,
   "metadata": {
    "collapsed": true
   },
   "outputs": [],
   "source": [
    "d_test = xgb.DMatrix(x_test)\n",
    "p_test = bst.predict(d_test)"
   ]
  },
  {
   "cell_type": "code",
   "execution_count": null,
   "metadata": {
    "collapsed": false
   },
   "outputs": [],
   "source": [
    "sub = pd.DataFrame()\n",
    "import math\n",
    "\n",
    "sub['ID'] = df_c_test['ID']\n",
    "sub['Rating'] = p_test\n",
    "#sub['Contacts'] = max(sub['Contacts'],0).all()\n",
    "\n"
   ]
  },
  {
   "cell_type": "code",
   "execution_count": 17,
   "metadata": {
    "collapsed": false
   },
   "outputs": [
    {
     "name": "stdout",
     "output_type": "stream",
     "text": [
      "hello\n"
     ]
    }
   ],
   "source": [
    "sub.to_csv('contacts_xgb.csv', index=False)\n",
    "print (\"hello\")"
   ]
  },
  {
   "cell_type": "code",
   "execution_count": 18,
   "metadata": {
    "collapsed": true
   },
   "outputs": [],
   "source": [
    "df_c_test.to_csv('test_new.csv', index=False)"
   ]
  },
  {
   "cell_type": "code",
   "execution_count": null,
   "metadata": {
    "collapsed": true
   },
   "outputs": [],
   "source": []
  }
 ],
 "metadata": {
  "anaconda-cloud": {},
  "kernelspec": {
   "display_name": "Python [default]",
   "language": "python",
   "name": "python3"
  },
  "language_info": {
   "codemirror_mode": {
    "name": "ipython",
    "version": 3
   },
   "file_extension": ".py",
   "mimetype": "text/x-python",
   "name": "python",
   "nbconvert_exporter": "python",
   "pygments_lexer": "ipython3",
   "version": "3.5.2"
  }
 },
 "nbformat": 4,
 "nbformat_minor": 1
}
