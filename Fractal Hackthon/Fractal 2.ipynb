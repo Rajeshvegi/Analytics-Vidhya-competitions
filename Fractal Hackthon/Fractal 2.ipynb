{
 "cells": [
  {
   "cell_type": "code",
   "execution_count": 20,
   "metadata": {
    "collapsed": false
   },
   "outputs": [
    {
     "name": "stdout",
     "output_type": "stream",
     "text": [
      "welcome\n"
     ]
    }
   ],
   "source": [
    "import numpy as np # linear algebra\n",
    "import pandas as pd # data processing, CSV file I/O (e.g. pd.read_csv)\n",
    "import os\n",
    "import gc\n",
    "import matplotlib.pyplot as plt\n",
    "import seaborn as sns\n",
    "import xgboost as xgb\n",
    "print ('welcome')\n"
   ]
  },
  {
   "cell_type": "code",
   "execution_count": 21,
   "metadata": {
    "collapsed": false
   },
   "outputs": [
    {
     "name": "stdout",
     "output_type": "stream",
     "text": [
      "welcome\n"
     ]
    }
   ],
   "source": [
    "df_c_train = pd.read_csv('E://av/train_7.csv')\n",
    "df_c_test = pd.read_csv('E://av/test_7.csv')\n",
    "#df_c_train = pd.read_csv('E://Data Science/AV/XML/Contacts_Pre_2017_XL_train.csv')\n",
    "#df_c_test = pd.read_csv('E://Data Science/AV/XML/Contacts_Pre_2017_XL_valid.csv')\n",
    "\n",
    "print ('welcome')\n"
   ]
  },
  {
   "cell_type": "code",
   "execution_count": 22,
   "metadata": {
    "collapsed": true
   },
   "outputs": [],
   "source": [
    "x_train = pd.DataFrame()\n",
    "x_test = pd.DataFrame()\n",
    "y_train = pd.DataFrame()\n",
    "z_train = pd.DataFrame()\n"
   ]
  },
  {
   "cell_type": "code",
   "execution_count": 23,
   "metadata": {
    "collapsed": false
   },
   "outputs": [
    {
     "name": "stdout",
     "output_type": "stream",
     "text": [
      "welcome\n"
     ]
    }
   ],
   "source": [
    "x_train['Item_ID'] = df_c_train['Item_ID']\n",
    "x_train['Category_1'] = df_c_train['Category_1']\n",
    "x_train['Category_2'] = df_c_train['Category_2']\n",
    "x_train['Category_3'] = df_c_train['Category_3']\n",
    "x_train['t'] = df_c_train['t']\n",
    "x_train['t2'] = df_c_train['t2']\n",
    "#x_train['Month'] = df_c_train['Month']\n",
    "x_train['Date'] = df_c_train['Date']\n",
    "#x_train['weekday'] = df_c_train['weekday']\n",
    "x_train['Prince_RT'] = df_c_train['Prince_RT']\n",
    "x_train['Price_avg'] = df_c_train['Price_avg']\n",
    "x_train['Sales_RT'] = df_c_train['Sales_RT']\n",
    "x_train['Sales_avg'] = df_c_train['Sales_avg']\n",
    "\n",
    "\n",
    "print ('welcome')\n"
   ]
  },
  {
   "cell_type": "code",
   "execution_count": 24,
   "metadata": {
    "collapsed": false
   },
   "outputs": [
    {
     "data": {
      "text/plain": [
       "Index(['Item_ID', 'Category_1', 'Category_2', 'Category_3', 't', 't2', 'Date',\n",
       "       'Prince_RT', 'Price_avg', 'Sales_RT', 'Sales_avg'],\n",
       "      dtype='object')"
      ]
     },
     "execution_count": 24,
     "metadata": {},
     "output_type": "execute_result"
    }
   ],
   "source": [
    "x_train.columns"
   ]
  },
  {
   "cell_type": "code",
   "execution_count": 25,
   "metadata": {
    "collapsed": true
   },
   "outputs": [],
   "source": [
    "month_dummies = pd.get_dummies(df_c_train['Month'])\n",
    "week_dummies = pd.get_dummies(df_c_train['weekday'])\n"
   ]
  },
  {
   "cell_type": "code",
   "execution_count": 26,
   "metadata": {
    "collapsed": true
   },
   "outputs": [],
   "source": [
    "x_train=pd.concat([x_train, month_dummies, week_dummies], axis=1, join_axes=[x_train.index])\n"
   ]
  },
  {
   "cell_type": "code",
   "execution_count": 27,
   "metadata": {
    "collapsed": false
   },
   "outputs": [
    {
     "data": {
      "text/html": [
       "<div>\n",
       "<table border=\"1\" class=\"dataframe\">\n",
       "  <thead>\n",
       "    <tr style=\"text-align: right;\">\n",
       "      <th></th>\n",
       "      <th>Item_ID</th>\n",
       "      <th>Category_1</th>\n",
       "      <th>Category_2</th>\n",
       "      <th>Category_3</th>\n",
       "      <th>t</th>\n",
       "      <th>t2</th>\n",
       "      <th>Date</th>\n",
       "      <th>Prince_RT</th>\n",
       "      <th>Price_avg</th>\n",
       "      <th>Sales_RT</th>\n",
       "      <th>...</th>\n",
       "      <th>Nov</th>\n",
       "      <th>Oct</th>\n",
       "      <th>Sep</th>\n",
       "      <th>Fri</th>\n",
       "      <th>Mon</th>\n",
       "      <th>Sat</th>\n",
       "      <th>Sun</th>\n",
       "      <th>Thu</th>\n",
       "      <th>Tue</th>\n",
       "      <th>Wed</th>\n",
       "    </tr>\n",
       "  </thead>\n",
       "  <tbody>\n",
       "    <tr>\n",
       "      <th>0</th>\n",
       "      <td>29654</td>\n",
       "      <td>184</td>\n",
       "      <td>99</td>\n",
       "      <td>1</td>\n",
       "      <td>899</td>\n",
       "      <td>808201</td>\n",
       "      <td>17</td>\n",
       "      <td>0.922571</td>\n",
       "      <td>0.922571</td>\n",
       "      <td>295.428571</td>\n",
       "      <td>...</td>\n",
       "      <td>0</td>\n",
       "      <td>0</td>\n",
       "      <td>0</td>\n",
       "      <td>1</td>\n",
       "      <td>0</td>\n",
       "      <td>0</td>\n",
       "      <td>0</td>\n",
       "      <td>0</td>\n",
       "      <td>0</td>\n",
       "      <td>0</td>\n",
       "    </tr>\n",
       "    <tr>\n",
       "      <th>1</th>\n",
       "      <td>29654</td>\n",
       "      <td>184</td>\n",
       "      <td>99</td>\n",
       "      <td>1</td>\n",
       "      <td>900</td>\n",
       "      <td>810000</td>\n",
       "      <td>18</td>\n",
       "      <td>0.922571</td>\n",
       "      <td>0.922571</td>\n",
       "      <td>295.428571</td>\n",
       "      <td>...</td>\n",
       "      <td>0</td>\n",
       "      <td>0</td>\n",
       "      <td>0</td>\n",
       "      <td>0</td>\n",
       "      <td>0</td>\n",
       "      <td>1</td>\n",
       "      <td>0</td>\n",
       "      <td>0</td>\n",
       "      <td>0</td>\n",
       "      <td>0</td>\n",
       "    </tr>\n",
       "    <tr>\n",
       "      <th>2</th>\n",
       "      <td>29654</td>\n",
       "      <td>184</td>\n",
       "      <td>99</td>\n",
       "      <td>1</td>\n",
       "      <td>901</td>\n",
       "      <td>811801</td>\n",
       "      <td>19</td>\n",
       "      <td>0.922571</td>\n",
       "      <td>0.922571</td>\n",
       "      <td>295.428571</td>\n",
       "      <td>...</td>\n",
       "      <td>0</td>\n",
       "      <td>0</td>\n",
       "      <td>0</td>\n",
       "      <td>0</td>\n",
       "      <td>0</td>\n",
       "      <td>0</td>\n",
       "      <td>1</td>\n",
       "      <td>0</td>\n",
       "      <td>0</td>\n",
       "      <td>0</td>\n",
       "    </tr>\n",
       "    <tr>\n",
       "      <th>3</th>\n",
       "      <td>29654</td>\n",
       "      <td>184</td>\n",
       "      <td>99</td>\n",
       "      <td>1</td>\n",
       "      <td>902</td>\n",
       "      <td>813604</td>\n",
       "      <td>20</td>\n",
       "      <td>0.922571</td>\n",
       "      <td>0.922571</td>\n",
       "      <td>295.428571</td>\n",
       "      <td>...</td>\n",
       "      <td>0</td>\n",
       "      <td>0</td>\n",
       "      <td>0</td>\n",
       "      <td>0</td>\n",
       "      <td>1</td>\n",
       "      <td>0</td>\n",
       "      <td>0</td>\n",
       "      <td>0</td>\n",
       "      <td>0</td>\n",
       "      <td>0</td>\n",
       "    </tr>\n",
       "    <tr>\n",
       "      <th>4</th>\n",
       "      <td>29654</td>\n",
       "      <td>184</td>\n",
       "      <td>99</td>\n",
       "      <td>1</td>\n",
       "      <td>903</td>\n",
       "      <td>815409</td>\n",
       "      <td>21</td>\n",
       "      <td>0.922571</td>\n",
       "      <td>0.922571</td>\n",
       "      <td>295.428571</td>\n",
       "      <td>...</td>\n",
       "      <td>0</td>\n",
       "      <td>0</td>\n",
       "      <td>0</td>\n",
       "      <td>0</td>\n",
       "      <td>0</td>\n",
       "      <td>0</td>\n",
       "      <td>0</td>\n",
       "      <td>0</td>\n",
       "      <td>1</td>\n",
       "      <td>0</td>\n",
       "    </tr>\n",
       "  </tbody>\n",
       "</table>\n",
       "<p>5 rows × 30 columns</p>\n",
       "</div>"
      ],
      "text/plain": [
       "   Item_ID  Category_1  Category_2  Category_3    t      t2  Date  Prince_RT  \\\n",
       "0    29654         184          99           1  899  808201    17   0.922571   \n",
       "1    29654         184          99           1  900  810000    18   0.922571   \n",
       "2    29654         184          99           1  901  811801    19   0.922571   \n",
       "3    29654         184          99           1  902  813604    20   0.922571   \n",
       "4    29654         184          99           1  903  815409    21   0.922571   \n",
       "\n",
       "   Price_avg    Sales_RT ...   Nov  Oct  Sep  Fri  Mon  Sat  Sun  Thu  Tue  \\\n",
       "0   0.922571  295.428571 ...     0    0    0    1    0    0    0    0    0   \n",
       "1   0.922571  295.428571 ...     0    0    0    0    0    1    0    0    0   \n",
       "2   0.922571  295.428571 ...     0    0    0    0    0    0    1    0    0   \n",
       "3   0.922571  295.428571 ...     0    0    0    0    1    0    0    0    0   \n",
       "4   0.922571  295.428571 ...     0    0    0    0    0    0    0    0    1   \n",
       "\n",
       "   Wed  \n",
       "0    0  \n",
       "1    0  \n",
       "2    0  \n",
       "3    0  \n",
       "4    0  \n",
       "\n",
       "[5 rows x 30 columns]"
      ]
     },
     "execution_count": 27,
     "metadata": {},
     "output_type": "execute_result"
    }
   ],
   "source": [
    "x_train.head()"
   ]
  },
  {
   "cell_type": "code",
   "execution_count": 28,
   "metadata": {
    "collapsed": false
   },
   "outputs": [
    {
     "name": "stdout",
     "output_type": "stream",
     "text": [
      "welcome\n"
     ]
    }
   ],
   "source": [
    "x_test['Item_ID'] = df_c_test['Item_ID']\n",
    "x_test['Category_1'] = df_c_test['Category_1']\n",
    "x_test['Category_2'] = df_c_test['Category_2']\n",
    "x_test['Category_3'] = df_c_test['Category_3']\n",
    "x_test['t'] = df_c_test['t']\n",
    "x_test['t2'] = df_c_test['t2']\n",
    "#x_test['Month'] = df_c_test['Month']\n",
    "x_test['Date'] = df_c_test['Date']\n",
    "#x_test['weekday'] = df_c_test['weekday']\n",
    "x_test['Prince_RT'] = df_c_test['Prince_RT']\n",
    "x_test['Price_avg'] = df_c_test['Price_avg']\n",
    "x_test['Sales_RT'] = df_c_test['Sales_RT']\n",
    "x_test['Sales_avg'] = df_c_test['Sales_avg']\n",
    "print ('welcome')"
   ]
  },
  {
   "cell_type": "code",
   "execution_count": 29,
   "metadata": {
    "collapsed": true
   },
   "outputs": [],
   "source": [
    "test_month_dummies = pd.get_dummies(df_c_test['Month'])\n",
    "test_week_dummies = pd.get_dummies(df_c_test['weekday'])\n",
    "x_test=pd.concat([x_test, test_month_dummies, test_week_dummies], axis=1, join_axes=[x_test.index])\n"
   ]
  },
  {
   "cell_type": "code",
   "execution_count": 30,
   "metadata": {
    "collapsed": false
   },
   "outputs": [
    {
     "data": {
      "text/html": [
       "<div>\n",
       "<table border=\"1\" class=\"dataframe\">\n",
       "  <thead>\n",
       "    <tr style=\"text-align: right;\">\n",
       "      <th></th>\n",
       "      <th>Item_ID</th>\n",
       "      <th>Category_1</th>\n",
       "      <th>Category_2</th>\n",
       "      <th>Category_3</th>\n",
       "      <th>t</th>\n",
       "      <th>t2</th>\n",
       "      <th>Date</th>\n",
       "      <th>Prince_RT</th>\n",
       "      <th>Price_avg</th>\n",
       "      <th>Sales_RT</th>\n",
       "      <th>...</th>\n",
       "      <th>Sun</th>\n",
       "      <th>Thu</th>\n",
       "      <th>Tue</th>\n",
       "      <th>Wed</th>\n",
       "      <th>Jan</th>\n",
       "      <th>Feb</th>\n",
       "      <th>Mar</th>\n",
       "      <th>Apr</th>\n",
       "      <th>May</th>\n",
       "      <th>Jun</th>\n",
       "    </tr>\n",
       "  </thead>\n",
       "  <tbody>\n",
       "    <tr>\n",
       "      <th>0</th>\n",
       "      <td>30413</td>\n",
       "      <td>235</td>\n",
       "      <td>3.0</td>\n",
       "      <td>0</td>\n",
       "      <td>913</td>\n",
       "      <td>833569</td>\n",
       "      <td>1</td>\n",
       "      <td>3677.068676</td>\n",
       "      <td>177.664197</td>\n",
       "      <td>848555.2435</td>\n",
       "      <td>...</td>\n",
       "      <td>0</td>\n",
       "      <td>0</td>\n",
       "      <td>0</td>\n",
       "      <td>0</td>\n",
       "      <td>0</td>\n",
       "      <td>0</td>\n",
       "      <td>0</td>\n",
       "      <td>0</td>\n",
       "      <td>0</td>\n",
       "      <td>0</td>\n",
       "    </tr>\n",
       "    <tr>\n",
       "      <th>1</th>\n",
       "      <td>30413</td>\n",
       "      <td>235</td>\n",
       "      <td>3.0</td>\n",
       "      <td>0</td>\n",
       "      <td>914</td>\n",
       "      <td>835396</td>\n",
       "      <td>2</td>\n",
       "      <td>3677.068676</td>\n",
       "      <td>177.664197</td>\n",
       "      <td>848555.2435</td>\n",
       "      <td>...</td>\n",
       "      <td>0</td>\n",
       "      <td>0</td>\n",
       "      <td>0</td>\n",
       "      <td>0</td>\n",
       "      <td>0</td>\n",
       "      <td>0</td>\n",
       "      <td>0</td>\n",
       "      <td>0</td>\n",
       "      <td>0</td>\n",
       "      <td>0</td>\n",
       "    </tr>\n",
       "    <tr>\n",
       "      <th>2</th>\n",
       "      <td>30413</td>\n",
       "      <td>235</td>\n",
       "      <td>3.0</td>\n",
       "      <td>0</td>\n",
       "      <td>915</td>\n",
       "      <td>837225</td>\n",
       "      <td>3</td>\n",
       "      <td>3677.068676</td>\n",
       "      <td>177.664197</td>\n",
       "      <td>848555.2435</td>\n",
       "      <td>...</td>\n",
       "      <td>1</td>\n",
       "      <td>0</td>\n",
       "      <td>0</td>\n",
       "      <td>0</td>\n",
       "      <td>0</td>\n",
       "      <td>0</td>\n",
       "      <td>0</td>\n",
       "      <td>0</td>\n",
       "      <td>0</td>\n",
       "      <td>0</td>\n",
       "    </tr>\n",
       "    <tr>\n",
       "      <th>3</th>\n",
       "      <td>30413</td>\n",
       "      <td>235</td>\n",
       "      <td>3.0</td>\n",
       "      <td>0</td>\n",
       "      <td>916</td>\n",
       "      <td>839056</td>\n",
       "      <td>4</td>\n",
       "      <td>3677.068676</td>\n",
       "      <td>177.664197</td>\n",
       "      <td>848555.2435</td>\n",
       "      <td>...</td>\n",
       "      <td>0</td>\n",
       "      <td>0</td>\n",
       "      <td>0</td>\n",
       "      <td>0</td>\n",
       "      <td>0</td>\n",
       "      <td>0</td>\n",
       "      <td>0</td>\n",
       "      <td>0</td>\n",
       "      <td>0</td>\n",
       "      <td>0</td>\n",
       "    </tr>\n",
       "    <tr>\n",
       "      <th>4</th>\n",
       "      <td>30413</td>\n",
       "      <td>235</td>\n",
       "      <td>3.0</td>\n",
       "      <td>0</td>\n",
       "      <td>917</td>\n",
       "      <td>840889</td>\n",
       "      <td>5</td>\n",
       "      <td>3677.068676</td>\n",
       "      <td>177.664197</td>\n",
       "      <td>848555.2435</td>\n",
       "      <td>...</td>\n",
       "      <td>0</td>\n",
       "      <td>0</td>\n",
       "      <td>1</td>\n",
       "      <td>0</td>\n",
       "      <td>0</td>\n",
       "      <td>0</td>\n",
       "      <td>0</td>\n",
       "      <td>0</td>\n",
       "      <td>0</td>\n",
       "      <td>0</td>\n",
       "    </tr>\n",
       "  </tbody>\n",
       "</table>\n",
       "<p>5 rows × 30 columns</p>\n",
       "</div>"
      ],
      "text/plain": [
       "   Item_ID  Category_1  Category_2  Category_3    t      t2  Date  \\\n",
       "0    30413         235         3.0           0  913  833569     1   \n",
       "1    30413         235         3.0           0  914  835396     2   \n",
       "2    30413         235         3.0           0  915  837225     3   \n",
       "3    30413         235         3.0           0  916  839056     4   \n",
       "4    30413         235         3.0           0  917  840889     5   \n",
       "\n",
       "     Prince_RT   Price_avg     Sales_RT ...   Sun  Thu  Tue  Wed  Jan  Feb  \\\n",
       "0  3677.068676  177.664197  848555.2435 ...     0    0    0    0    0    0   \n",
       "1  3677.068676  177.664197  848555.2435 ...     0    0    0    0    0    0   \n",
       "2  3677.068676  177.664197  848555.2435 ...     1    0    0    0    0    0   \n",
       "3  3677.068676  177.664197  848555.2435 ...     0    0    0    0    0    0   \n",
       "4  3677.068676  177.664197  848555.2435 ...     0    0    1    0    0    0   \n",
       "\n",
       "   Mar  Apr  May  Jun  \n",
       "0    0    0    0    0  \n",
       "1    0    0    0    0  \n",
       "2    0    0    0    0  \n",
       "3    0    0    0    0  \n",
       "4    0    0    0    0  \n",
       "\n",
       "[5 rows x 30 columns]"
      ]
     },
     "execution_count": 30,
     "metadata": {},
     "output_type": "execute_result"
    }
   ],
   "source": [
    "x_test['Jan']=0\n",
    "x_test['Feb']=0\n",
    "x_test['Mar']=0\n",
    "x_test['Apr']=0\n",
    "x_test['May']=0\n",
    "x_test['Jun']=0\n",
    "x_test.head()\n",
    "\n",
    "#x_test.columns"
   ]
  },
  {
   "cell_type": "code",
   "execution_count": 31,
   "metadata": {
    "collapsed": false
   },
   "outputs": [
    {
     "data": {
      "text/plain": [
       "Index(['Item_ID', 'Category_1', 'Category_2', 'Category_3', 't', 't2', 'Date',\n",
       "       'Prince_RT', 'Price_avg', 'Sales_RT', 'Sales_avg', 'Aug', 'Dec', 'Jul',\n",
       "       'Nov', 'Oct', 'Sep', 'Fri', 'Mon', 'Sat', 'Sun', 'Thu', 'Tue', 'Wed',\n",
       "       'Jan', 'Feb', 'Mar', 'Apr', 'May', 'Jun'],\n",
       "      dtype='object')"
      ]
     },
     "execution_count": 31,
     "metadata": {},
     "output_type": "execute_result"
    }
   ],
   "source": [
    "x_test.columns"
   ]
  },
  {
   "cell_type": "code",
   "execution_count": 32,
   "metadata": {
    "collapsed": false
   },
   "outputs": [],
   "source": [
    "x_test = x_test[['Item_ID', 'Category_1', 'Category_2', 'Category_3', 't', 't2', 'Date','Prince_RT', 'Price_avg', 'Sales_RT', 'Sales_avg', 'Apr', 'Aug', 'Dec',\n",
    "                'Feb', 'Jan', 'Jul', 'Jun', 'Mar', 'May', 'Nov', 'Oct', 'Sep', 'Fri','Mon', 'Sat', 'Sun', 'Thu', 'Tue', 'Wed']]"
   ]
  },
  {
   "cell_type": "code",
   "execution_count": 33,
   "metadata": {
    "collapsed": false
   },
   "outputs": [
    {
     "data": {
      "text/plain": [
       "Index(['Item_ID', 'Category_1', 'Category_2', 'Category_3', 't', 't2', 'Date',\n",
       "       'Prince_RT', 'Price_avg', 'Sales_RT', 'Sales_avg', 'Apr', 'Aug', 'Dec',\n",
       "       'Feb', 'Jan', 'Jul', 'Jun', 'Mar', 'May', 'Nov', 'Oct', 'Sep', 'Fri',\n",
       "       'Mon', 'Sat', 'Sun', 'Thu', 'Tue', 'Wed'],\n",
       "      dtype='object')"
      ]
     },
     "execution_count": 33,
     "metadata": {},
     "output_type": "execute_result"
    }
   ],
   "source": [
    "x_train.columns"
   ]
  },
  {
   "cell_type": "code",
   "execution_count": 34,
   "metadata": {
    "collapsed": false
   },
   "outputs": [
    {
     "data": {
      "text/html": [
       "<div>\n",
       "<table border=\"1\" class=\"dataframe\">\n",
       "  <thead>\n",
       "    <tr style=\"text-align: right;\">\n",
       "      <th></th>\n",
       "      <th>Item_ID</th>\n",
       "      <th>Category_1</th>\n",
       "      <th>Category_2</th>\n",
       "      <th>Category_3</th>\n",
       "      <th>t</th>\n",
       "      <th>t2</th>\n",
       "      <th>Date</th>\n",
       "      <th>Prince_RT</th>\n",
       "      <th>Price_avg</th>\n",
       "      <th>Sales_RT</th>\n",
       "      <th>...</th>\n",
       "      <th>Nov</th>\n",
       "      <th>Oct</th>\n",
       "      <th>Sep</th>\n",
       "      <th>Fri</th>\n",
       "      <th>Mon</th>\n",
       "      <th>Sat</th>\n",
       "      <th>Sun</th>\n",
       "      <th>Thu</th>\n",
       "      <th>Tue</th>\n",
       "      <th>Wed</th>\n",
       "    </tr>\n",
       "  </thead>\n",
       "  <tbody>\n",
       "    <tr>\n",
       "      <th>0</th>\n",
       "      <td>30413</td>\n",
       "      <td>235</td>\n",
       "      <td>3.0</td>\n",
       "      <td>0</td>\n",
       "      <td>913</td>\n",
       "      <td>833569</td>\n",
       "      <td>1</td>\n",
       "      <td>3677.068676</td>\n",
       "      <td>177.664197</td>\n",
       "      <td>848555.2435</td>\n",
       "      <td>...</td>\n",
       "      <td>0</td>\n",
       "      <td>0</td>\n",
       "      <td>0</td>\n",
       "      <td>1</td>\n",
       "      <td>0</td>\n",
       "      <td>0</td>\n",
       "      <td>0</td>\n",
       "      <td>0</td>\n",
       "      <td>0</td>\n",
       "      <td>0</td>\n",
       "    </tr>\n",
       "    <tr>\n",
       "      <th>1</th>\n",
       "      <td>30413</td>\n",
       "      <td>235</td>\n",
       "      <td>3.0</td>\n",
       "      <td>0</td>\n",
       "      <td>914</td>\n",
       "      <td>835396</td>\n",
       "      <td>2</td>\n",
       "      <td>3677.068676</td>\n",
       "      <td>177.664197</td>\n",
       "      <td>848555.2435</td>\n",
       "      <td>...</td>\n",
       "      <td>0</td>\n",
       "      <td>0</td>\n",
       "      <td>0</td>\n",
       "      <td>0</td>\n",
       "      <td>0</td>\n",
       "      <td>1</td>\n",
       "      <td>0</td>\n",
       "      <td>0</td>\n",
       "      <td>0</td>\n",
       "      <td>0</td>\n",
       "    </tr>\n",
       "    <tr>\n",
       "      <th>2</th>\n",
       "      <td>30413</td>\n",
       "      <td>235</td>\n",
       "      <td>3.0</td>\n",
       "      <td>0</td>\n",
       "      <td>915</td>\n",
       "      <td>837225</td>\n",
       "      <td>3</td>\n",
       "      <td>3677.068676</td>\n",
       "      <td>177.664197</td>\n",
       "      <td>848555.2435</td>\n",
       "      <td>...</td>\n",
       "      <td>0</td>\n",
       "      <td>0</td>\n",
       "      <td>0</td>\n",
       "      <td>0</td>\n",
       "      <td>0</td>\n",
       "      <td>0</td>\n",
       "      <td>1</td>\n",
       "      <td>0</td>\n",
       "      <td>0</td>\n",
       "      <td>0</td>\n",
       "    </tr>\n",
       "    <tr>\n",
       "      <th>3</th>\n",
       "      <td>30413</td>\n",
       "      <td>235</td>\n",
       "      <td>3.0</td>\n",
       "      <td>0</td>\n",
       "      <td>916</td>\n",
       "      <td>839056</td>\n",
       "      <td>4</td>\n",
       "      <td>3677.068676</td>\n",
       "      <td>177.664197</td>\n",
       "      <td>848555.2435</td>\n",
       "      <td>...</td>\n",
       "      <td>0</td>\n",
       "      <td>0</td>\n",
       "      <td>0</td>\n",
       "      <td>0</td>\n",
       "      <td>1</td>\n",
       "      <td>0</td>\n",
       "      <td>0</td>\n",
       "      <td>0</td>\n",
       "      <td>0</td>\n",
       "      <td>0</td>\n",
       "    </tr>\n",
       "    <tr>\n",
       "      <th>4</th>\n",
       "      <td>30413</td>\n",
       "      <td>235</td>\n",
       "      <td>3.0</td>\n",
       "      <td>0</td>\n",
       "      <td>917</td>\n",
       "      <td>840889</td>\n",
       "      <td>5</td>\n",
       "      <td>3677.068676</td>\n",
       "      <td>177.664197</td>\n",
       "      <td>848555.2435</td>\n",
       "      <td>...</td>\n",
       "      <td>0</td>\n",
       "      <td>0</td>\n",
       "      <td>0</td>\n",
       "      <td>0</td>\n",
       "      <td>0</td>\n",
       "      <td>0</td>\n",
       "      <td>0</td>\n",
       "      <td>0</td>\n",
       "      <td>1</td>\n",
       "      <td>0</td>\n",
       "    </tr>\n",
       "  </tbody>\n",
       "</table>\n",
       "<p>5 rows × 30 columns</p>\n",
       "</div>"
      ],
      "text/plain": [
       "   Item_ID  Category_1  Category_2  Category_3    t      t2  Date  \\\n",
       "0    30413         235         3.0           0  913  833569     1   \n",
       "1    30413         235         3.0           0  914  835396     2   \n",
       "2    30413         235         3.0           0  915  837225     3   \n",
       "3    30413         235         3.0           0  916  839056     4   \n",
       "4    30413         235         3.0           0  917  840889     5   \n",
       "\n",
       "     Prince_RT   Price_avg     Sales_RT ...   Nov  Oct  Sep  Fri  Mon  Sat  \\\n",
       "0  3677.068676  177.664197  848555.2435 ...     0    0    0    1    0    0   \n",
       "1  3677.068676  177.664197  848555.2435 ...     0    0    0    0    0    1   \n",
       "2  3677.068676  177.664197  848555.2435 ...     0    0    0    0    0    0   \n",
       "3  3677.068676  177.664197  848555.2435 ...     0    0    0    0    1    0   \n",
       "4  3677.068676  177.664197  848555.2435 ...     0    0    0    0    0    0   \n",
       "\n",
       "   Sun  Thu  Tue  Wed  \n",
       "0    0    0    0    0  \n",
       "1    0    0    0    0  \n",
       "2    1    0    0    0  \n",
       "3    0    0    0    0  \n",
       "4    0    0    1    0  \n",
       "\n",
       "[5 rows x 30 columns]"
      ]
     },
     "execution_count": 34,
     "metadata": {},
     "output_type": "execute_result"
    }
   ],
   "source": [
    "x_test.head()"
   ]
  },
  {
   "cell_type": "code",
   "execution_count": 35,
   "metadata": {
    "collapsed": false
   },
   "outputs": [
    {
     "name": "stdout",
     "output_type": "stream",
     "text": [
      "welcome\n"
     ]
    }
   ],
   "source": [
    "y_train['Price'] = df_c_train['Price']\n",
    "z_train['Number_Of_Sales'] = df_c_train['Number_Of_Sales']\n",
    "print ('welcome')"
   ]
  },
  {
   "cell_type": "code",
   "execution_count": 36,
   "metadata": {
    "collapsed": false
   },
   "outputs": [
    {
     "name": "stdout",
     "output_type": "stream",
     "text": [
      "[0]\ttrain-rmse:22.5809\n",
      "Will train until train-rmse hasn't improved in 50 rounds.\n",
      "[10]\ttrain-rmse:18.6718\n",
      "[20]\ttrain-rmse:15.5037\n",
      "[30]\ttrain-rmse:12.9479\n",
      "[40]\ttrain-rmse:10.8932\n",
      "[50]\ttrain-rmse:9.24917\n",
      "[60]\ttrain-rmse:7.95274\n",
      "[70]\ttrain-rmse:6.93092\n",
      "[80]\ttrain-rmse:6.13265\n",
      "[90]\ttrain-rmse:5.51892\n",
      "[100]\ttrain-rmse:5.0371\n",
      "[110]\ttrain-rmse:4.67255\n",
      "[120]\ttrain-rmse:4.38389\n",
      "[130]\ttrain-rmse:4.15812\n",
      "[140]\ttrain-rmse:3.9905\n",
      "[150]\ttrain-rmse:3.84907\n",
      "[160]\ttrain-rmse:3.74041\n",
      "[170]\ttrain-rmse:3.6528\n",
      "[180]\ttrain-rmse:3.57838\n",
      "[190]\ttrain-rmse:3.51007\n",
      "[199]\ttrain-rmse:3.46537\n"
     ]
    }
   ],
   "source": [
    "import xgboost as xgb\n",
    "\n",
    "# Set our parameters for xgboost\n",
    "params = {}\n",
    "#params['objective'] = 'count:poisson'\n",
    "params['objective'] = 'reg:linear'\n",
    "params['eval_metric'] = 'rmse'\n",
    "#params['eval_metric'] = 'logloss'\n",
    "params['eta'] = 0.02\n",
    "params['max_depth'] = 6\n",
    "\n",
    "d_train = xgb.DMatrix(x_train, label=y_train)\n",
    "\n",
    "watchlist = [(d_train, 'train')]\n",
    "\n",
    "bst_price = xgb.train(params, d_train, 200, watchlist, early_stopping_rounds=50, verbose_eval=10)"
   ]
  },
  {
   "cell_type": "code",
   "execution_count": 37,
   "metadata": {
    "collapsed": false
   },
   "outputs": [
    {
     "name": "stdout",
     "output_type": "stream",
     "text": [
      "[0]\ttrain-rmse:7698.94\n",
      "Will train until train-rmse hasn't improved in 50 rounds.\n",
      "[10]\ttrain-rmse:6419.14\n",
      "[20]\ttrain-rmse:5403.16\n",
      "[30]\ttrain-rmse:4585.49\n",
      "[40]\ttrain-rmse:3935.56\n",
      "[50]\ttrain-rmse:3432.92\n",
      "[60]\ttrain-rmse:3038.94\n",
      "[70]\ttrain-rmse:2728.63\n",
      "[80]\ttrain-rmse:2493.19\n",
      "[90]\ttrain-rmse:2316.6\n",
      "[100]\ttrain-rmse:2163.04\n",
      "[110]\ttrain-rmse:2052.56\n",
      "[120]\ttrain-rmse:1975.33\n",
      "[130]\ttrain-rmse:1920.19\n",
      "[140]\ttrain-rmse:1835.15\n",
      "[150]\ttrain-rmse:1757.3\n",
      "[160]\ttrain-rmse:1692.74\n",
      "[170]\ttrain-rmse:1642.25\n",
      "[180]\ttrain-rmse:1605.25\n",
      "[190]\ttrain-rmse:1575.11\n",
      "[199]\ttrain-rmse:1549.02\n"
     ]
    }
   ],
   "source": [
    "import xgboost as xgb\n",
    "\n",
    "# Set our parameters for xgboost\n",
    "params = {}\n",
    "#params['objective'] = 'count:poisson'\n",
    "params['objective'] = 'reg:linear'\n",
    "params['eval_metric'] = 'rmse'\n",
    "#params['eval_metric'] = 'logloss'\n",
    "params['eta'] = 0.02\n",
    "params['max_depth'] = 6\n",
    "\n",
    "s_train = xgb.DMatrix(x_train, label=z_train)\n",
    "\n",
    "watchlist = [(s_train, 'train')]\n",
    "\n",
    "bst_sales = xgb.train(params, s_train, 200, watchlist, early_stopping_rounds=50, verbose_eval=10)"
   ]
  },
  {
   "cell_type": "code",
   "execution_count": 38,
   "metadata": {
    "collapsed": false
   },
   "outputs": [],
   "source": [
    "d_test = xgb.DMatrix(x_test)\n",
    "price_test = bst_price.predict(d_test)"
   ]
  },
  {
   "cell_type": "code",
   "execution_count": 39,
   "metadata": {
    "collapsed": true
   },
   "outputs": [],
   "source": [
    "sales_test = bst_sales.predict(d_test)\n"
   ]
  },
  {
   "cell_type": "code",
   "execution_count": null,
   "metadata": {
    "collapsed": true
   },
   "outputs": [],
   "source": [
    "sub = pd.DataFrame()\n",
    "import math\n",
    "\n",
    "sub['Sales'] = sales_test\n",
    "sub['Price'] = price_test\n",
    "\n"
   ]
  },
  {
   "cell_type": "code",
   "execution_count": null,
   "metadata": {
    "collapsed": false
   },
   "outputs": [],
   "source": [
    "sub.to_csv('fractal_xgb4.csv', index=False)\n",
    "print (\"hello\")"
   ]
  },
  {
   "cell_type": "code",
   "execution_count": null,
   "metadata": {
    "collapsed": true
   },
   "outputs": [],
   "source": []
  },
  {
   "cell_type": "code",
   "execution_count": null,
   "metadata": {
    "collapsed": true
   },
   "outputs": [],
   "source": []
  },
  {
   "cell_type": "code",
   "execution_count": null,
   "metadata": {
    "collapsed": true
   },
   "outputs": [],
   "source": []
  }
 ],
 "metadata": {
  "anaconda-cloud": {},
  "kernelspec": {
   "display_name": "Python [conda root]",
   "language": "python",
   "name": "conda-root-py"
  },
  "language_info": {
   "codemirror_mode": {
    "name": "ipython",
    "version": 3
   },
   "file_extension": ".py",
   "mimetype": "text/x-python",
   "name": "python",
   "nbconvert_exporter": "python",
   "pygments_lexer": "ipython3",
   "version": "3.5.2"
  }
 },
 "nbformat": 4,
 "nbformat_minor": 1
}
