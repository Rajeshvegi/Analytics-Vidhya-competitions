{
 "cells": [
  {
   "cell_type": "code",
   "execution_count": 27,
   "metadata": {},
   "outputs": [
    {
     "name": "stdout",
     "output_type": "stream",
     "text": [
      "welcome\n"
     ]
    }
   ],
   "source": [
    "import numpy as np # linear algebra\n",
    "import pandas as pd # data processing, CSV file I/O (e.g. pd.read_csv)\n",
    "import os\n",
    "import gc\n",
    "import matplotlib.pyplot as plt\n",
    "import seaborn as sns\n",
    "import xgboost as xgb\n",
    "from imblearn.over_sampling import SMOTE\n",
    "from sklearn import cross_validation\n",
    "from sklearn.ensemble import RandomForestClassifier\n",
    "print ('welcome')"
   ]
  },
  {
   "cell_type": "code",
   "execution_count": 28,
   "metadata": {},
   "outputs": [],
   "source": [
    "df_c_train = pd.DataFrame()\n",
    "df_c_test = pd.DataFrame()"
   ]
  },
  {
   "cell_type": "code",
   "execution_count": 29,
   "metadata": {},
   "outputs": [
    {
     "name": "stdout",
     "output_type": "stream",
     "text": [
      "welcome\n"
     ]
    }
   ],
   "source": [
    "df_c_train  = pd.read_csv('D://Analytics Vidhya/mckinsey/train_80_mode.csv')\n",
    "df_c_test = pd.read_csv('D://Analytics Vidhya/mckinsey/train_20_mode.csv')\n",
    "print ('welcome')"
   ]
  },
  {
   "cell_type": "code",
   "execution_count": 30,
   "metadata": {},
   "outputs": [],
   "source": [
    "x_train = pd.DataFrame()\n",
    "x_test = pd.DataFrame()\n",
    "y_train = pd.DataFrame()\n",
    "z_train = pd.DataFrame()"
   ]
  },
  {
   "cell_type": "code",
   "execution_count": 31,
   "metadata": {},
   "outputs": [
    {
     "data": {
      "text/plain": [
       "Index(['id', 'perc_premium_paid_by_cash_credit', 'age_in_days', 'Income',\n",
       "       'Count_3-6_months_late', 'Count_6-12_months_late',\n",
       "       'Count_more_than_12_months_late', 'application_underwriting_score',\n",
       "       'no_of_premiums_paid', 'sourcing_channel_A', 'sourcing_channel_B',\n",
       "       'sourcing_channel_C', 'sourcing_channel_D', 'sourcing_channel_E',\n",
       "       'residence_area_type_rural', 'residence_area_type_urban', 'premium',\n",
       "       'renewal'],\n",
       "      dtype='object')"
      ]
     },
     "execution_count": 31,
     "metadata": {},
     "output_type": "execute_result"
    }
   ],
   "source": [
    "df_c_train.columns\n"
   ]
  },
  {
   "cell_type": "code",
   "execution_count": 32,
   "metadata": {},
   "outputs": [],
   "source": [
    "#x_train['id'] = df_c_train['id']\n",
    "x_train['perc_premium_paid_by_cash_credit'] = (df_c_train['perc_premium_paid_by_cash_credit'])\n",
    "x_train['age_in_days'] = np.log(df_c_train['age_in_days']+1)\n",
    "x_train['Income'] = np.log(df_c_train['Income'])\n",
    "x_train['Count_3-6_months_late'] = df_c_train['Count_3-6_months_late']\n",
    "x_train['Count_6-12_months_late'] = df_c_train['Count_6-12_months_late']\n",
    "x_train['Count_more_than_12_months_late'] = df_c_train['Count_more_than_12_months_late']\n",
    "#x_train['totallate'] = (df_c_train['Count_3-6_months_late']+df_c_train['Count_6-12_months_late']+df_c_train['Count_more_than_12_months_late'])\n",
    "#x_train['lateflag'] = np.where(x_train['totallate']>0, 1, 0)\n",
    "x_train['sourcing_channel_A'] = df_c_train['sourcing_channel_A']\n",
    "x_train['sourcing_channel_B'] = df_c_train['sourcing_channel_B']\n",
    "x_train['sourcing_channel_C'] = df_c_train['sourcing_channel_C']\n",
    "x_train['sourcing_channel_D'] = df_c_train['sourcing_channel_D']\n",
    "x_train['sourcing_channel_E'] = df_c_train['sourcing_channel_E']\n",
    "x_train['residence_area_type_rural'] = df_c_train['residence_area_type_rural']\n",
    "x_train['residence_area_type_urban'] = df_c_train['residence_area_type_urban']\n",
    "#x_train['pendprem'] = np.log((df_c_train['premium'] - (df_c_train['premium']*df_c_train['perc_premium_paid_by_cash_credit']))+1)\n",
    "x_train['premium'] = np.log(df_c_train['premium']+1)\n",
    "#x_train['premiumincome'] = np.log(((df_c_train['premium']+1) / (df_c_train['Income']+1))*100 )"
   ]
  },
  {
   "cell_type": "code",
   "execution_count": 33,
   "metadata": {},
   "outputs": [],
   "source": [
    "#x_test['id'] = df_c_test['id']\n",
    "x_test['perc_premium_paid_by_cash_credit'] = (df_c_test['perc_premium_paid_by_cash_credit'])\n",
    "x_test['age_in_days'] = np.log(df_c_test['age_in_days']+1)\n",
    "x_test['Income'] = np.log(df_c_test['Income'])\n",
    "x_test['Count_3-6_months_late'] = df_c_test['Count_3-6_months_late']\n",
    "x_test['Count_6-12_months_late'] = df_c_test['Count_6-12_months_late']\n",
    "x_test['Count_more_than_12_months_late'] = df_c_test['Count_more_than_12_months_late']\n",
    "#x_test['totallate'] = (df_c_test['Count_3-6_months_late']+df_c_test['Count_6-12_months_late']+df_c_test['Count_more_than_12_months_late'])\n",
    "#x_test['lateflag'] = np.where(x_test['totallate']>0, 1, 0)\n",
    "x_test['sourcing_channel_A'] = df_c_test['sourcing_channel_A']\n",
    "x_test['sourcing_channel_B'] = df_c_test['sourcing_channel_B']\n",
    "x_test['sourcing_channel_C'] = df_c_test['sourcing_channel_C']\n",
    "x_test['sourcing_channel_D'] = df_c_test['sourcing_channel_D']\n",
    "x_test['sourcing_channel_E'] = df_c_test['sourcing_channel_E']\n",
    "x_test['residence_area_type_rural'] = df_c_test['residence_area_type_rural']\n",
    "x_test['residence_area_type_urban'] = df_c_test['residence_area_type_urban']\n",
    "#x_test['pendprem'] = np.log((df_c_test['premium'] - (df_c_test['premium']*df_c_test['perc_premium_paid_by_cash_credit']))+1)\n",
    "x_test['premium'] = np.log(df_c_test['premium']+1)\n",
    "#x_test['premiumincome'] = np.log(((df_c_test['premium']+1) / (df_c_test['Income']+1))*100 )"
   ]
  },
  {
   "cell_type": "code",
   "execution_count": 34,
   "metadata": {},
   "outputs": [
    {
     "name": "stdout",
     "output_type": "stream",
     "text": [
      "welcome\n"
     ]
    }
   ],
   "source": [
    "y_train['renewal'] = df_c_train['renewal']\n",
    "print ('welcome')"
   ]
  },
  {
   "cell_type": "code",
   "execution_count": 35,
   "metadata": {},
   "outputs": [
    {
     "data": {
      "text/plain": [
       "1    59901\n",
       "0     4027\n",
       "Name: renewal, dtype: int64"
      ]
     },
     "execution_count": 35,
     "metadata": {},
     "output_type": "execute_result"
    }
   ],
   "source": [
    "\n",
    "y_train['renewal'].value_counts()"
   ]
  },
  {
   "cell_type": "code",
   "execution_count": 36,
   "metadata": {},
   "outputs": [
    {
     "name": "stderr",
     "output_type": "stream",
     "text": [
      "C:\\ProgramData\\Anaconda3\\lib\\site-packages\\sklearn\\utils\\deprecation.py:77: DeprecationWarning: Function _ratio_float is deprecated; Use a float for 'ratio' is deprecated from version 0.2. The support will be removed in 0.4. Use a dict, str, or a callable instead.\n",
      "  warnings.warn(msg, category=DeprecationWarning)\n"
     ]
    }
   ],
   "source": [
    "sm = SMOTE(random_state = 12, ratio = 1.0, kind='svm')\n",
    "x_train_res, y_train_res = sm.fit_sample(x_train, y_train.values.ravel())"
   ]
  },
  {
   "cell_type": "code",
   "execution_count": 37,
   "metadata": {},
   "outputs": [
    {
     "name": "stdout",
     "output_type": "stream",
     "text": [
      "Resampled dataset shape Counter({1: 59901, 0: 59901})\n"
     ]
    }
   ],
   "source": [
    "from collections import Counter\n",
    "print('Resampled dataset shape {}'.format(Counter(y_train_res)))"
   ]
  },
  {
   "cell_type": "code",
   "execution_count": 38,
   "metadata": {},
   "outputs": [],
   "source": [
    "\n",
    " #import  xgboost  as  xgb\n",
    "\n",
    "  # Set our parameters for xgboost# Set ou \n",
    " #params = {}\n",
    "#params['booster'] = 'gblinear'\n",
    " #params['objective'] = 'binary:logistic'\n",
    " #params['eval_metric'] = 'auc'\n",
    "#params['eval_metric'] = 'logloss'\n",
    "#params['eval_metric'] = 'rmse'\n",
    " #params['eta'] = 0.3\n",
    " #params['scale_pos_weight'] = 0.3\n",
    " #params['max_depth'] = 8\n",
    "\n",
    " #d_train = xgb.DMatrix(x_train_res, label=y_train_res)\n",
    "\n",
    " #watchlist = [(d_train, 'train')]\n",
    "\n",
    " #renewal_f = xgb.train(params, d_train, 500, watchlist, early_stopping_rounds=50, verbose_eval=10)"
   ]
  },
  {
   "cell_type": "code",
   "execution_count": 39,
   "metadata": {},
   "outputs": [],
   "source": [
    "\n",
    " #import  xgboost  as  xgb\n",
    "\n",
    "  # Set our parameters for xgboost# Set ou \n",
    " #params = {}\n",
    "#params['booster'] = 'gblinear'\n",
    " #params['objective'] = 'binary:logistic'\n",
    " #params['eval_metric'] = 'auc'\n",
    "#params['eval_metric'] = 'logloss'\n",
    "#params['eval_metric'] = 'rmse'\n",
    " #params['eta'] = 0.3\n",
    " #params['scale_pos_weight'] = 0.3\n",
    " #params['max_depth'] = 8\n",
    "\n",
    " #R_train = xgb.DMatrix(x_train, label=y_train)\n",
    "\n",
    " #watchlist = [(R_train, 'train')]\n",
    "\n",
    " #renewal_s = xgb.train(params, R_train, 500, watchlist, early_stopping_rounds=50, verbose_eval=10)"
   ]
  },
  {
   "cell_type": "code",
   "execution_count": 40,
   "metadata": {},
   "outputs": [],
   "source": [
    "x_test_res = x_test.values"
   ]
  },
  {
   "cell_type": "code",
   "execution_count": 41,
   "metadata": {},
   "outputs": [],
   "source": [
    "#d_test = xgb.DMatrix(x_test_res)\n",
    "#R_test = xgb.DMatrix(x_test)\n",
    "#price_test_1 = renewal_f.predict(d_test)\n",
    "#price_test_2 = renewal_s.predict(R_test)"
   ]
  },
  {
   "cell_type": "code",
   "execution_count": 42,
   "metadata": {},
   "outputs": [
    {
     "name": "stdout",
     "output_type": "stream",
     "text": [
      "hello\n"
     ]
    }
   ],
   "source": [
    "#sub = pd.DataFrame()\n",
    "#import math\n",
    "#sub['renewal_xgb'] = price_test_1\n",
    "#sub['renewal_xgb_full'] = price_test_2\n",
    "#sub['premium'] = x_test['premium']\n",
    "print (\"hello\")"
   ]
  },
  {
   "cell_type": "code",
   "execution_count": 43,
   "metadata": {},
   "outputs": [],
   "source": [
    "sub = pd.DataFrame()"
   ]
  },
  {
   "cell_type": "code",
   "execution_count": null,
   "metadata": {},
   "outputs": [],
   "source": []
  },
  {
   "cell_type": "code",
   "execution_count": 44,
   "metadata": {},
   "outputs": [],
   "source": [
    "#clf = RandomForestClassifier(n_estimators = 10, min_weight_fraction_leaf = 0.1)\n",
    "#scores = cross_validation.cross_val_score(clf, x_train_res, y_train_res, cv = 5)\n",
    "#scores"
   ]
  },
  {
   "cell_type": "code",
   "execution_count": 45,
   "metadata": {},
   "outputs": [],
   "source": [
    "#clf = RandomForestClassifier(n_estimators = 25, min_weight_fraction_leaf = 0.1, random_state = 12)\n",
    "#scores = cross_validation.cross_val_score(clf, x_train_res, y_train_res, cv = 5)\n",
    "#scores"
   ]
  },
  {
   "cell_type": "code",
   "execution_count": 46,
   "metadata": {},
   "outputs": [],
   "source": [
    "#clf = RandomForestClassifier(n_estimators = 1000, min_weight_fraction_leaf = 0.0, random_state = 45)\n",
    "#scores = cross_validation.cross_val_score(clf, x_train_res, y_train_res, cv = 5)\n",
    "#scores"
   ]
  },
  {
   "cell_type": "code",
   "execution_count": 47,
   "metadata": {},
   "outputs": [
    {
     "name": "stderr",
     "output_type": "stream",
     "text": [
      "C:\\ProgramData\\Anaconda3\\lib\\site-packages\\ipykernel_launcher.py:4: DataConversionWarning: A column-vector y was passed when a 1d array was expected. Please change the shape of y to (n_samples,), for example using ravel().\n",
      "  after removing the cwd from sys.path.\n"
     ]
    },
    {
     "data": {
      "text/plain": [
       "RandomForestClassifier(bootstrap=True, class_weight=None, criterion='gini',\n",
       "            max_depth=None, max_features='auto', max_leaf_nodes=None,\n",
       "            min_impurity_decrease=0.0, min_impurity_split=None,\n",
       "            min_samples_leaf=1, min_samples_split=2,\n",
       "            min_weight_fraction_leaf=0.0, n_estimators=2000, n_jobs=1,\n",
       "            oob_score=False, random_state=50, verbose=0, warm_start=False)"
      ]
     },
     "execution_count": 47,
     "metadata": {},
     "output_type": "execute_result"
    }
   ],
   "source": [
    "clf_rf_f = RandomForestClassifier(n_estimators = 100, random_state = 12 )\n",
    "clf_rf_s = RandomForestClassifier(n_estimators = 2000, min_weight_fraction_leaf=0.0, random_state = 50 )\n",
    "#clf_rf_f.fit(x_train_res, y_train_res)\n",
    "clf_rf_s.fit(x_train, y_train)"
   ]
  },
  {
   "cell_type": "code",
   "execution_count": 48,
   "metadata": {},
   "outputs": [],
   "source": [
    "#predictions_f = clf_rf_f.predict_proba(x_test)[:,1]\n",
    "predictions_s = clf_rf_s.predict_proba(x_test_res)[:,1]"
   ]
  },
  {
   "cell_type": "code",
   "execution_count": 49,
   "metadata": {},
   "outputs": [],
   "source": [
    "reneal_rnf = pd.DataFrame({\n",
    "        #\"target_f\": predictions_f.tolist(),\n",
    "    \"target_s\": predictions_s.tolist()\n",
    "    })\n",
    "\n",
    "#sub['renewal_rnf_f'] = reneal_rnf['target_f']\n",
    "sub['renewal_rnf_s'] = reneal_rnf['target_s']\n"
   ]
  },
  {
   "cell_type": "code",
   "execution_count": 50,
   "metadata": {},
   "outputs": [],
   "source": [
    "#sub['predrenewal_all'] = (sub['renewal_xgb'] +sub['renewal_xgb_full'] + sub['renewal_rnf_f'] + sub['renewal_rnf_s'])/4\n",
    "#sub['renewal_sam'] = (sub['renewal_xgb'] + sub['renewal_rnf_s'])/2\n",
    "\n",
    "#sub.drop(['renewal_xgb', 'renewal_rnf'], axis=1)\n",
    "\n",
    "sub.to_csv('D://Analytics Vidhya/mckinsey/mckinsey.csv', index=False)\n"
   ]
  },
  {
   "cell_type": "code",
   "execution_count": 51,
   "metadata": {},
   "outputs": [
    {
     "data": {
      "text/plain": [
       "RandomForestClassifier(bootstrap=True, class_weight=None, criterion='gini',\n",
       "            max_depth=None, max_features='auto', max_leaf_nodes=None,\n",
       "            min_impurity_decrease=0.0, min_impurity_split=None,\n",
       "            min_samples_leaf=1, min_samples_split=2,\n",
       "            min_weight_fraction_leaf=0.0, n_estimators=2000, n_jobs=1,\n",
       "            oob_score=False, random_state=50, verbose=0, warm_start=False)"
      ]
     },
     "execution_count": 51,
     "metadata": {},
     "output_type": "execute_result"
    }
   ],
   "source": [
    "clf_rf_s"
   ]
  },
  {
   "cell_type": "code",
   "execution_count": null,
   "metadata": {},
   "outputs": [],
   "source": []
  },
  {
   "cell_type": "code",
   "execution_count": null,
   "metadata": {},
   "outputs": [],
   "source": []
  },
  {
   "cell_type": "code",
   "execution_count": null,
   "metadata": {},
   "outputs": [],
   "source": []
  },
  {
   "cell_type": "code",
   "execution_count": null,
   "metadata": {},
   "outputs": [],
   "source": []
  }
 ],
 "metadata": {
  "kernelspec": {
   "display_name": "Python 3",
   "language": "python",
   "name": "python3"
  },
  "language_info": {
   "codemirror_mode": {
    "name": "ipython",
    "version": 3
   },
   "file_extension": ".py",
   "mimetype": "text/x-python",
   "name": "python",
   "nbconvert_exporter": "python",
   "pygments_lexer": "ipython3",
   "version": "3.6.4"
  }
 },
 "nbformat": 4,
 "nbformat_minor": 2
}
