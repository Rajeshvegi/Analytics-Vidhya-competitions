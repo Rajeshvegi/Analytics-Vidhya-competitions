{
 "cells": [
  {
   "cell_type": "code",
   "execution_count": 111,
   "metadata": {
    "collapsed": false
   },
   "outputs": [
    {
     "name": "stdout",
     "output_type": "stream",
     "text": [
      "welcome\n"
     ]
    }
   ],
   "source": [
    "import numpy as np # linear algebra\n",
    "import pandas as pd # data processing, CSV file I/O (e.g. pd.read_csv)\n",
    "import os\n",
    "import gc\n",
    "import matplotlib.pyplot as plt\n",
    "import seaborn as sns\n",
    "import xgboost as xgb\n",
    "print ('welcome')\n"
   ]
  },
  {
   "cell_type": "code",
   "execution_count": 213,
   "metadata": {
    "collapsed": false
   },
   "outputs": [],
   "source": [
    "df_c_train = pd.read_csv('E://Data Science/AV/XML/Contacts_Pre_2017_XL.csv')\n",
    "df_c_test = pd.read_csv('E://Data Science/AV/XML/Contacts2017_xL.csv')\n",
    "#df_c_train = pd.read_csv('E://Data Science/AV/XML/Contacts_Pre_2017_XL_train.csv')\n",
    "#df_c_test = pd.read_csv('E://Data Science/AV/XML/Contacts_Pre_2017_XL_valid.csv')\n",
    "x_train = pd.DataFrame()\n",
    "x_test = pd.DataFrame()\n",
    "y_train = pd.DataFrame()"
   ]
  },
  {
   "cell_type": "code",
   "execution_count": 214,
   "metadata": {
    "collapsed": false
   },
   "outputs": [],
   "source": [
    "x_train['Year'] = df_c_train['Year']\n",
    "x_train['Call - Input'] = df_c_train['Call - Input']\n",
    "x_train['Fax - Input'] = df_c_train['Fax - Input']\n",
    "x_train['Month'] = df_c_train['Month']\n",
    "x_train['Day'] = df_c_train['Day']\n",
    "x_train['Week'] = df_c_train['Week']\n",
    "x_train['Fax Acknowledgement - Input'] = df_c_train['Fax Acknowledgement - Input']\n",
    "x_train['Installation Report - Input'] = df_c_train['Installation Report - Input']\n",
    "x_train['Internal Management'] = df_c_train['Internal Management']\n",
    "x_train['Mail - Input'] = df_c_train['Mail - Input']\n",
    "x_train['Mail - Recieved'] = df_c_train['Mail - Recieved']\n",
    "x_train['Tweet - Input'] = df_c_train['Tweet - Input']\n",
    "x_train['Visit'] = df_c_train['Visit']\n",
    "x_train['Web - Input'] = df_c_train['Web - Input']\n",
    "x_train['M1'] = df_c_train['M1']\n",
    "x_train['M2'] = df_c_train['M2']\n",
    "x_train['M3'] = df_c_train['M3']\n",
    "x_train['M4'] = df_c_train['M4']\n",
    "x_train['M5'] = df_c_train['M5']\n",
    "x_train['M6'] = df_c_train['M6']\n",
    "x_train['M7'] = df_c_train['M7']\n",
    "x_train['M8'] = df_c_train['M8']\n",
    "x_train['M9'] = df_c_train['M9']\n",
    "x_train['M10'] = df_c_train['M10']\n",
    "x_train['M11'] = df_c_train['M11']\n",
    "x_train['M12'] = df_c_train['M12']\n",
    "x_train['D1'] = df_c_train['D1']\n",
    "x_train['D2'] = df_c_train['D2']\n",
    "x_train['D3'] = df_c_train['D3']\n",
    "x_train['D4'] = df_c_train['D4']\n",
    "x_train['D5'] = df_c_train['D5']\n",
    "x_train['D6'] = df_c_train['D6']\n",
    "x_train['D7'] = df_c_train['D7']\n",
    "x_train['D8'] = df_c_train['D8']\n",
    "x_train['D9'] = df_c_train['D9']\n",
    "x_train['D10'] = df_c_train['D10']\n",
    "x_train['D11'] = df_c_train['D11']\n",
    "x_train['D12'] = df_c_train['D12']\n",
    "x_train['D13'] = df_c_train['D13']\n",
    "x_train['D14'] = df_c_train['D14']\n",
    "x_train['D15'] = df_c_train['D15']\n",
    "x_train['D16'] = df_c_train['D16']\n",
    "x_train['D17'] = df_c_train['D17']\n",
    "x_train['D18'] = df_c_train['D18']\n",
    "x_train['D19'] = df_c_train['D19']\n",
    "x_train['D20'] = df_c_train['D20']\n",
    "x_train['D21'] = df_c_train['D21']\n",
    "x_train['D22'] = df_c_train['D22']\n",
    "x_train['D23'] = df_c_train['D23']\n",
    "x_train['D24'] = df_c_train['D24']\n",
    "x_train['D25'] = df_c_train['D25']\n",
    "x_train['D26'] = df_c_train['D26']\n",
    "x_train['D27'] = df_c_train['D27']\n",
    "x_train['D28'] = df_c_train['D28']\n",
    "x_train['D29'] = df_c_train['D29']\n",
    "x_train['D30'] = df_c_train['D30']\n",
    "x_train['D31'] = df_c_train['D31']\n",
    "x_train['W1'] = df_c_train['W1']\n",
    "x_train['W2'] = df_c_train['W2']\n",
    "x_train['W3'] = df_c_train['W3']\n",
    "x_train['W4'] = df_c_train['W4']\n",
    "x_train['W5'] = df_c_train['W5']\n",
    "x_train['W6'] = df_c_train['W6']\n",
    "x_train['W7'] = df_c_train['W7']"
   ]
  },
  {
   "cell_type": "code",
   "execution_count": 215,
   "metadata": {
    "collapsed": true
   },
   "outputs": [],
   "source": [
    "x_train['NUMBER_OF_CONTRACTS_3M'] = df_c_train['NUMBER_OF_CONTRACTS_3M']\n",
    "x_train['HOUSEHOLD_3M'] = df_c_train['HOUSEHOLD_3M']\n",
    "#x_train['COMMERCIAL (HOU + COM)_3M'] = df_c_train['COMMERCIAL (HOU + COM)_3M']\n",
    "#x_train['COMMERCIAL_3M'] = df_c_train['COMMERCIAL_3M']\n",
    "#x_train['TOH_A_3M'] = df_c_train['TOH_A_3M']\n",
    "#x_train['TOH_B_3M'] = df_c_train['TOH_B_3M']\n",
    "#x_train['TOH_C_3M'] = df_c_train['TOH_C_3M']\n",
    "#x_train['TOH_D_3M'] = df_c_train['TOH_D_3M']\n",
    "#x_train['TOH_E_3M'] = df_c_train['TOH_E_3M']\n",
    "#x_train['TOH_F_3M'] = df_c_train['TOH_F_3M']\n",
    "#x_train['TOH_G_3M'] = df_c_train['TOH_G_3M']\n",
    "#x_train['TOH_H_3M'] = df_c_train['TOH_H_3M']\n",
    "#x_train['TOH_I_3M'] = df_c_train['TOH_I_3M']\n",
    "#x_train['TOH_O_3M'] = df_c_train['TOH_O_3M']\n",
    "#x_train['TOH_U_3M'] = df_c_train['TOH_U_3M']\n",
    "#x_train['TOH_W_3M'] = df_c_train['TOH_W_3M']\n",
    "#x_train['TOH_X_3M'] = df_c_train['TOH_X_3M']\n",
    "#x_train['NUMBER_OF_CONTRACTS_ENDED_3M'] = df_c_train['NUMBER_OF_CONTRACTS_ENDED_3M']\n",
    "\n",
    "df_c_train['NC_DIFF']= df_c_train['NUMBER_OF_CONTRACTS_3M'] - df_c_train['NUMBER_OF_CONTRACTS_ENDED_3M']\n",
    "x_train['NC_DIFF'] = df_c_train['NC_DIFF']\n",
    "df_c_train['HH_DIFF']= df_c_train['HOUSEHOLD_3M'] - df_c_train['END_HOUSEHOLD_3M']\n",
    "x_train['HH_DIFF'] = df_c_train['HH_DIFF']\n",
    "\n",
    "x_train['NUMBER_OF_CONTRACTS_ENDED_3M'] = df_c_train['NUMBER_OF_CONTRACTS_ENDED_3M']\n",
    "x_train['END_HOUSEHOLD_3M'] = df_c_train['END_HOUSEHOLD_3M']\n",
    "#x_train['END_COMMERCIAL (HOU + COM)_3M'] = df_c_train['END_COMMERCIAL (HOU + COM)_3M']\n",
    "#x_train['END_COMMERCIAL_3M'] = df_c_train['END_COMMERCIAL_3M']\n",
    "#x_train['END_INDUSTRIAL_3M'] = df_c_train['END_INDUSTRIAL_3M']\n",
    "#x_train['END_TOH_A_3M'] = df_c_train['END_TOH_A_3M']\n",
    "#x_train['END_TOH_B_3M'] = df_c_train['END_TOH_B_3M']\n",
    "#x_train['END_TOH_C_3M'] = df_c_train['END_TOH_C_3M']\n",
    "#x_train['END_TOH_D_3M'] = df_c_train['END_TOH_D_3M']\n",
    "#x_train['END_TOH_E_3M'] = df_c_train['END_TOH_E_3M']\n",
    "#x_train['END_TOH_F_3M'] = df_c_train['END_TOH_F_3M']\n",
    "#x_train['END_TOH_G_3M'] = df_c_train['END_TOH_G_3M']\n",
    "#x_train['END_TOH_H_3M'] = df_c_train['END_TOH_H_3M']\n",
    "#x_train['END_TOH_I_3M'] = df_c_train['END_TOH_I_3M']\n",
    "#x_train['END_TOH_O_3M'] = df_c_train['END_TOH_O_3M']\n",
    "#x_train['END_TOH_U_3M'] = df_c_train['END_TOH_U_3M']\n",
    "#x_train['END_TOH_W_3M'] = df_c_train['END_TOH_W_3M']\n",
    "#x_train['END_TOH_X_3M'] = df_c_train['END_TOH_X_3M']"
   ]
  },
  {
   "cell_type": "code",
   "execution_count": 216,
   "metadata": {
    "collapsed": true
   },
   "outputs": [],
   "source": [
    "df_c_train['pop6m'] = df_c_train['pop6m'] / df_c_train['6m_cencus']\n",
    "df_c_train['hhs6m'] = df_c_train['hhs6m'] / df_c_train['6m_cencus']\n",
    "df_c_train['dwel6m'] = df_c_train['dwel6m'] / df_c_train['6m_cencus']\n",
    "#x_test['6m_cencus'] = df_c_test['6m_cencus']\n",
    "#x_train['6m_cencus'] = df_c_train['6m_cencus']\n",
    "x_train['pop6m'] = df_c_train['pop6m']\n",
    "x_train['hhs6m'] = df_c_train['hhs6m']\n",
    "x_train['dwel6m'] = df_c_train['dwel6m']"
   ]
  },
  {
   "cell_type": "code",
   "execution_count": 217,
   "metadata": {
    "collapsed": false
   },
   "outputs": [],
   "source": [
    "x_test['Year'] = df_c_test['Year']\n",
    "x_test['Call - Input'] = df_c_test['Call - Input']\n",
    "x_test['Fax - Input'] = df_c_test['Fax - Input']\n",
    "x_test['Month'] = df_c_test['Month']\n",
    "x_test['Day'] = df_c_test['Day']\n",
    "x_test['Week'] = df_c_test['Week']\n",
    "x_test['Fax Acknowledgement - Input'] = df_c_test['Fax Acknowledgement - Input']\n",
    "x_test['Installation Report - Input'] = df_c_test['Installation Report - Input']\n",
    "x_test['Internal Management'] = df_c_test['Internal Management']\n",
    "x_test['Mail - Input'] = df_c_test['Mail - Input']\n",
    "x_test['Mail - Recieved'] = df_c_test['Mail - Recieved']\n",
    "x_test['Tweet - Input'] = df_c_test['Tweet - Input']\n",
    "x_test['Visit'] = df_c_test['Visit']\n",
    "x_test['Web - Input'] = df_c_test['Web - Input']\n",
    "x_test['M1'] = df_c_test['M1']\n",
    "x_test['M2'] = df_c_test['M2']\n",
    "x_test['M3'] = df_c_test['M3']\n",
    "x_test['M4'] = df_c_test['M4']\n",
    "x_test['M5'] = df_c_test['M5']\n",
    "x_test['M6'] = df_c_test['M6']\n",
    "x_test['M7'] = df_c_test['M7']\n",
    "x_test['M8'] = df_c_test['M8']\n",
    "x_test['M9'] = df_c_test['M9']\n",
    "x_test['M10'] = df_c_test['M10']\n",
    "x_test['M11'] = df_c_test['M11']\n",
    "x_test['M12'] = df_c_test['M12']\n",
    "x_test['D1'] = df_c_test['D1']\n",
    "x_test['D2'] = df_c_test['D2']\n",
    "x_test['D3'] = df_c_test['D3']\n",
    "x_test['D4'] = df_c_test['D4']\n",
    "x_test['D5'] = df_c_test['D5']\n",
    "x_test['D6'] = df_c_test['D6']\n",
    "x_test['D7'] = df_c_test['D7']\n",
    "x_test['D8'] = df_c_test['D8']\n",
    "x_test['D9'] = df_c_test['D9']\n",
    "x_test['D10'] = df_c_test['D10']\n",
    "x_test['D11'] = df_c_test['D11']\n",
    "x_test['D12'] = df_c_test['D12']\n",
    "x_test['D13'] = df_c_test['D13']\n",
    "x_test['D14'] = df_c_test['D14']\n",
    "x_test['D15'] = df_c_test['D15']\n",
    "x_test['D16'] = df_c_test['D16']\n",
    "x_test['D17'] = df_c_test['D17']\n",
    "x_test['D18'] = df_c_test['D18']\n",
    "x_test['D19'] = df_c_test['D19']\n",
    "x_test['D20'] = df_c_test['D20']\n",
    "x_test['D21'] = df_c_test['D21']\n",
    "x_test['D22'] = df_c_test['D22']\n",
    "x_test['D23'] = df_c_test['D23']\n",
    "x_test['D24'] = df_c_test['D24']\n",
    "x_test['D25'] = df_c_test['D25']\n",
    "x_test['D26'] = df_c_test['D26']\n",
    "x_test['D27'] = df_c_test['D27']\n",
    "x_test['D28'] = df_c_test['D28']\n",
    "x_test['D29'] = df_c_test['D29']\n",
    "x_test['D30'] = df_c_test['D30']\n",
    "x_test['D31'] = df_c_test['D31']\n",
    "x_test['W1'] = df_c_test['W1']\n",
    "x_test['W2'] = df_c_test['W2']\n",
    "x_test['W3'] = df_c_test['W3']\n",
    "x_test['W4'] = df_c_test['W4']\n",
    "x_test['W5'] = df_c_test['W5']\n",
    "x_test['W6'] = df_c_test['W6']\n",
    "x_test['W7'] = df_c_test['W7']"
   ]
  },
  {
   "cell_type": "code",
   "execution_count": 218,
   "metadata": {
    "collapsed": true
   },
   "outputs": [],
   "source": [
    "x_test['NUMBER_OF_CONTRACTS_3M'] = df_c_test['NUMBER_OF_CONTRACTS_3M']\n",
    "x_test['HOUSEHOLD_3M'] = df_c_test['HOUSEHOLD_3M']\n",
    "#x_test['COMMERCIAL (HOU + COM)_3M'] = df_c_test['COMMERCIAL (HOU + COM)_3M']\n",
    "#x_test['COMMERCIAL_3M'] = df_c_test['COMMERCIAL_3M']\n",
    "#x_test['TOH_A_3M'] = df_c_test['TOH_A_3M']\n",
    "#x_test['TOH_B_3M'] = df_c_test['TOH_B_3M']\n",
    "#x_test['TOH_C_3M'] = df_c_test['TOH_C_3M']\n",
    "#x_test['TOH_D_3M'] = df_c_test['TOH_D_3M']\n",
    "#x_test['TOH_E_3M'] = df_c_test['TOH_E_3M']\n",
    "#x_test['TOH_F_3M'] = df_c_test['TOH_F_3M']\n",
    "#x_test['TOH_G_3M'] = df_c_test['TOH_G_3M']\n",
    "#x_test['TOH_H_3M'] = df_c_test['TOH_H_3M']\n",
    "#x_test['TOH_I_3M'] = df_c_test['TOH_I_3M']\n",
    "#x_test['TOH_O_3M'] = df_c_test['TOH_O_3M']\n",
    "#x_test['TOH_U_3M'] = df_c_test['TOH_U_3M']\n",
    "#x_test['TOH_W_3M'] = df_c_test['TOH_W_3M']\n",
    "#x_test['TOH_X_3M'] = df_c_test['TOH_X_3M']\n",
    "\n",
    "df_c_test['NC_DIFF']= df_c_test['NUMBER_OF_CONTRACTS_3M'] - df_c_test['NUMBER_OF_CONTRACTS_ENDED_3M']\n",
    "x_test['NC_DIFF'] = df_c_test['NC_DIFF']\n",
    "df_c_test['HH_DIFF']= df_c_test['HOUSEHOLD_3M'] - df_c_test['END_HOUSEHOLD_3M']\n",
    "x_test['HH_DIFF'] = df_c_test['HH_DIFF']\n",
    "\n",
    "x_test['NUMBER_OF_CONTRACTS_ENDED_3M'] = df_c_test['NUMBER_OF_CONTRACTS_ENDED_3M']\n",
    "x_test['END_HOUSEHOLD_3M'] = df_c_test['END_HOUSEHOLD_3M']\n",
    "#x_test['END_COMMERCIAL (HOU + COM)_3M'] = df_c_test['END_COMMERCIAL (HOU + COM)_3M']\n",
    "#x_test['END_COMMERCIAL_3M'] = df_c_test['END_COMMERCIAL_3M']\n",
    "#x_test['END_INDUSTRIAL_3M'] = df_c_test['END_INDUSTRIAL_3M']\n",
    "#x_test['END_TOH_A_3M'] = df_c_test['END_TOH_A_3M']\n",
    "#x_test['END_TOH_B_3M'] = df_c_test['END_TOH_B_3M']\n",
    "#x_test['END_TOH_C_3M'] = df_c_test['END_TOH_C_3M']\n",
    "#x_test['END_TOH_D_3M'] = df_c_test['END_TOH_D_3M']\n",
    "#x_test['END_TOH_E_3M'] = df_c_test['END_TOH_E_3M']\n",
    "#x_test['END_TOH_F_3M'] = df_c_test['END_TOH_F_3M']\n",
    "#x_test['END_TOH_G_3M'] = df_c_test['END_TOH_G_3M']\n",
    "#x_test['END_TOH_H_3M'] = df_c_test['END_TOH_H_3M']\n",
    "#x_test['END_TOH_I_3M'] = df_c_test['END_TOH_I_3M']\n",
    "#x_test['END_TOH_O_3M'] = df_c_test['END_TOH_O_3M']\n",
    "#x_test['END_TOH_U_3M'] = df_c_test['END_TOH_U_3M']\n",
    "#x_test['END_TOH_W_3M'] = df_c_test['END_TOH_W_3M']\n",
    "#x_test['END_TOH_X_3M'] = df_c_test['END_TOH_X_3M']"
   ]
  },
  {
   "cell_type": "code",
   "execution_count": 219,
   "metadata": {
    "collapsed": true
   },
   "outputs": [],
   "source": [
    "df_c_test['pop6m'] = df_c_test['pop6m'] / df_c_test['6m_cencus']\n",
    "df_c_test['hhs6m'] = df_c_test['hhs6m'] / df_c_test['6m_cencus']\n",
    "df_c_test['dwel6m'] = df_c_test['dwel6m'] / df_c_test['6m_cencus']\n",
    "#x_test['6m_cencus'] = df_c_test['6m_cencus']\n",
    "x_test['pop6m'] = df_c_test['pop6m']\n",
    "x_test['hhs6m'] = df_c_test['hhs6m']\n",
    "x_test['dwel6m'] = df_c_test['dwel6m']"
   ]
  },
  {
   "cell_type": "code",
   "execution_count": 220,
   "metadata": {
    "collapsed": true
   },
   "outputs": [],
   "source": [
    "y_train['Contacts'] = df_c_train['Contacts']"
   ]
  },
  {
   "cell_type": "code",
   "execution_count": 221,
   "metadata": {
    "collapsed": false
   },
   "outputs": [
    {
     "name": "stdout",
     "output_type": "stream",
     "text": [
      "[0]\ttrain-rmse:1134.96\n",
      "Will train until train-rmse hasn't improved in 50 rounds.\n",
      "[10]\ttrain-rmse:942.694\n",
      "[20]\ttrain-rmse:788.093\n",
      "[30]\ttrain-rmse:664.435\n",
      "[40]\ttrain-rmse:566.309\n",
      "[50]\ttrain-rmse:489.311\n",
      "[60]\ttrain-rmse:429.636\n",
      "[70]\ttrain-rmse:384.03\n",
      "[80]\ttrain-rmse:349.572\n",
      "[90]\ttrain-rmse:323.021\n",
      "[100]\ttrain-rmse:303.192\n",
      "[110]\ttrain-rmse:288.604\n",
      "[120]\ttrain-rmse:277.653\n",
      "[130]\ttrain-rmse:269.276\n",
      "[140]\ttrain-rmse:262.945\n",
      "[150]\ttrain-rmse:257.946\n",
      "[160]\ttrain-rmse:253.647\n",
      "[170]\ttrain-rmse:249.644\n",
      "[180]\ttrain-rmse:245.958\n",
      "[190]\ttrain-rmse:242.649\n",
      "[200]\ttrain-rmse:239.56\n",
      "[210]\ttrain-rmse:236.806\n",
      "[220]\ttrain-rmse:234.708\n",
      "[230]\ttrain-rmse:233.25\n",
      "[240]\ttrain-rmse:231.136\n",
      "[250]\ttrain-rmse:229.393\n",
      "[260]\ttrain-rmse:227.654\n",
      "[270]\ttrain-rmse:226.128\n",
      "[280]\ttrain-rmse:224.567\n",
      "[290]\ttrain-rmse:222.8\n",
      "[300]\ttrain-rmse:221.064\n",
      "[310]\ttrain-rmse:219.508\n",
      "[320]\ttrain-rmse:218.128\n",
      "[330]\ttrain-rmse:216.695\n",
      "[340]\ttrain-rmse:215.235\n",
      "[350]\ttrain-rmse:214.386\n",
      "[360]\ttrain-rmse:213.448\n",
      "[370]\ttrain-rmse:212.266\n",
      "[380]\ttrain-rmse:211.536\n",
      "[390]\ttrain-rmse:210.696\n",
      "[400]\ttrain-rmse:210.065\n",
      "[410]\ttrain-rmse:209.372\n",
      "[420]\ttrain-rmse:208.591\n",
      "[430]\ttrain-rmse:207.929\n",
      "[440]\ttrain-rmse:207.304\n",
      "[450]\ttrain-rmse:206.747\n",
      "[460]\ttrain-rmse:206.065\n",
      "[470]\ttrain-rmse:205.473\n",
      "[480]\ttrain-rmse:204.758\n",
      "[490]\ttrain-rmse:204.211\n",
      "[500]\ttrain-rmse:203.424\n",
      "[510]\ttrain-rmse:202.504\n",
      "[520]\ttrain-rmse:201.597\n",
      "[530]\ttrain-rmse:201.025\n",
      "[540]\ttrain-rmse:200.276\n",
      "[550]\ttrain-rmse:199.444\n",
      "[560]\ttrain-rmse:198.567\n",
      "[570]\ttrain-rmse:198.062\n",
      "[580]\ttrain-rmse:197.383\n",
      "[590]\ttrain-rmse:196.638\n",
      "[600]\ttrain-rmse:196.025\n",
      "[610]\ttrain-rmse:195.333\n",
      "[620]\ttrain-rmse:194.553\n",
      "[630]\ttrain-rmse:193.873\n",
      "[640]\ttrain-rmse:193.259\n",
      "[650]\ttrain-rmse:192.569\n",
      "[660]\ttrain-rmse:191.918\n",
      "[670]\ttrain-rmse:191.438\n",
      "[680]\ttrain-rmse:190.714\n",
      "[690]\ttrain-rmse:190.127\n",
      "[700]\ttrain-rmse:189.591\n",
      "[710]\ttrain-rmse:188.955\n",
      "[720]\ttrain-rmse:188.468\n",
      "[730]\ttrain-rmse:187.891\n",
      "[740]\ttrain-rmse:187.482\n",
      "[750]\ttrain-rmse:186.834\n",
      "[760]\ttrain-rmse:186.504\n",
      "[770]\ttrain-rmse:185.998\n",
      "[780]\ttrain-rmse:185.582\n",
      "[790]\ttrain-rmse:185.142\n",
      "[800]\ttrain-rmse:184.68\n",
      "[810]\ttrain-rmse:184.235\n",
      "[820]\ttrain-rmse:183.833\n",
      "[830]\ttrain-rmse:183.577\n",
      "[840]\ttrain-rmse:183.202\n",
      "[850]\ttrain-rmse:182.87\n",
      "[860]\ttrain-rmse:182.544\n",
      "[870]\ttrain-rmse:182.294\n",
      "[880]\ttrain-rmse:181.923\n",
      "[890]\ttrain-rmse:181.603\n",
      "[900]\ttrain-rmse:181.337\n",
      "[910]\ttrain-rmse:180.793\n",
      "[920]\ttrain-rmse:180.492\n",
      "[930]\ttrain-rmse:180.246\n",
      "[940]\ttrain-rmse:180.008\n",
      "[950]\ttrain-rmse:179.714\n",
      "[960]\ttrain-rmse:179.216\n",
      "[970]\ttrain-rmse:178.933\n",
      "[980]\ttrain-rmse:178.387\n",
      "[990]\ttrain-rmse:177.871\n",
      "[1000]\ttrain-rmse:177.376\n",
      "[1010]\ttrain-rmse:176.948\n",
      "[1020]\ttrain-rmse:176.472\n",
      "[1030]\ttrain-rmse:176.001\n",
      "[1040]\ttrain-rmse:175.605\n",
      "[1050]\ttrain-rmse:174.912\n",
      "[1060]\ttrain-rmse:174.453\n",
      "[1070]\ttrain-rmse:173.972\n",
      "[1080]\ttrain-rmse:173.624\n",
      "[1090]\ttrain-rmse:173.396\n",
      "[1100]\ttrain-rmse:173.084\n",
      "[1110]\ttrain-rmse:172.788\n",
      "[1120]\ttrain-rmse:172.4\n",
      "[1130]\ttrain-rmse:172.06\n",
      "[1140]\ttrain-rmse:171.557\n",
      "[1150]\ttrain-rmse:171.115\n",
      "[1160]\ttrain-rmse:170.606\n",
      "[1170]\ttrain-rmse:170.317\n",
      "[1180]\ttrain-rmse:169.827\n",
      "[1190]\ttrain-rmse:169.421\n",
      "[1200]\ttrain-rmse:169.147\n",
      "[1210]\ttrain-rmse:168.574\n",
      "[1220]\ttrain-rmse:168.152\n",
      "[1230]\ttrain-rmse:167.713\n",
      "[1240]\ttrain-rmse:167.395\n",
      "[1250]\ttrain-rmse:166.849\n",
      "[1260]\ttrain-rmse:166.475\n",
      "[1270]\ttrain-rmse:166.021\n",
      "[1280]\ttrain-rmse:165.703\n",
      "[1290]\ttrain-rmse:165.196\n",
      "[1300]\ttrain-rmse:164.962\n",
      "[1310]\ttrain-rmse:164.701\n",
      "[1320]\ttrain-rmse:164.364\n",
      "[1330]\ttrain-rmse:164.118\n",
      "[1340]\ttrain-rmse:163.84\n",
      "[1350]\ttrain-rmse:163.618\n",
      "[1360]\ttrain-rmse:163.298\n",
      "[1370]\ttrain-rmse:162.998\n",
      "[1380]\ttrain-rmse:162.571\n",
      "[1390]\ttrain-rmse:162.13\n",
      "[1400]\ttrain-rmse:161.749\n",
      "[1410]\ttrain-rmse:161.174\n",
      "[1420]\ttrain-rmse:160.905\n",
      "[1430]\ttrain-rmse:160.583\n",
      "[1440]\ttrain-rmse:160.205\n",
      "[1450]\ttrain-rmse:159.974\n",
      "[1460]\ttrain-rmse:159.723\n",
      "[1470]\ttrain-rmse:159.458\n",
      "[1480]\ttrain-rmse:159.163\n",
      "[1490]\ttrain-rmse:158.862\n",
      "[1499]\ttrain-rmse:158.661\n"
     ]
    }
   ],
   "source": [
    "import xgboost as xgb\n",
    "\n",
    "# Set our parameters for xgboost\n",
    "params = {}\n",
    "#params['objective'] = 'count:poisson'\n",
    "params['objective'] = 'reg:linear'\n",
    "params['eval_metric'] = 'rmse'\n",
    "#params['eval_metric'] = 'logloss'\n",
    "params['eta'] = 0.02\n",
    "params['max_depth'] = 4\n",
    "\n",
    "d_train = xgb.DMatrix(x_train, label=y_train)\n",
    "\n",
    "watchlist = [(d_train, 'train')]\n",
    "\n",
    "bst = xgb.train(params, d_train, 1500, watchlist, early_stopping_rounds=50, verbose_eval=10)"
   ]
  },
  {
   "cell_type": "code",
   "execution_count": 223,
   "metadata": {
    "collapsed": false
   },
   "outputs": [],
   "source": [
    "d_test = xgb.DMatrix(x_test)\n",
    "p_test = bst.predict(d_test)"
   ]
  },
  {
   "cell_type": "code",
   "execution_count": 224,
   "metadata": {
    "collapsed": false
   },
   "outputs": [],
   "source": [
    "sub = pd.DataFrame()\n",
    "import math\n",
    "\n",
    "sub['ID'] = df_c_test['ID']\n",
    "sub['Contacts'] = p_test\n",
    "#sub['Contacts'] = max(sub['Contacts'],0).all()\n",
    "\n"
   ]
  },
  {
   "cell_type": "code",
   "execution_count": 225,
   "metadata": {
    "collapsed": false
   },
   "outputs": [],
   "source": [
    "#mean = sub['Contacts'].sum() / 3356\n",
    "#sub['error'] = sub['Contacts']-df_c_test['Contacts'] \n",
    "#sub['error2'] = sub['error']*sub['error']\n",
    "#rmse=sub['error2'].sum() /3356\n",
    "#rmse=math.sqrt(rmse)\n",
    "#print (rmse)\n"
   ]
  },
  {
   "cell_type": "code",
   "execution_count": null,
   "metadata": {
    "collapsed": true
   },
   "outputs": [],
   "source": [
    "sub['Contacts'] = min(sub['Contacts'],0)"
   ]
  },
  {
   "cell_type": "code",
   "execution_count": 226,
   "metadata": {
    "collapsed": false
   },
   "outputs": [
    {
     "name": "stdout",
     "output_type": "stream",
     "text": [
      "hello\n"
     ]
    }
   ],
   "source": [
    "sub.to_csv('contacts_xgb.csv', index=False)\n",
    "print (\"hello\")"
   ]
  },
  {
   "cell_type": "code",
   "execution_count": null,
   "metadata": {
    "collapsed": true
   },
   "outputs": [],
   "source": []
  },
  {
   "cell_type": "code",
   "execution_count": null,
   "metadata": {
    "collapsed": true
   },
   "outputs": [],
   "source": []
  }
 ],
 "metadata": {
  "anaconda-cloud": {},
  "kernelspec": {
   "display_name": "Python [default]",
   "language": "python",
   "name": "python3"
  },
  "language_info": {
   "codemirror_mode": {
    "name": "ipython",
    "version": 3
   },
   "file_extension": ".py",
   "mimetype": "text/x-python",
   "name": "python",
   "nbconvert_exporter": "python",
   "pygments_lexer": "ipython3",
   "version": "3.5.2"
  }
 },
 "nbformat": 4,
 "nbformat_minor": 1
}
