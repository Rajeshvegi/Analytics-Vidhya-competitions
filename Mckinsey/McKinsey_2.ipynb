{
 "cells": [
  {
   "cell_type": "code",
   "execution_count": 202,
   "metadata": {},
   "outputs": [
    {
     "name": "stdout",
     "output_type": "stream",
     "text": [
      "welcome\n"
     ]
    }
   ],
   "source": [
    "import numpy as np # linear algebra\n",
    "from sklearn.model_selection import train_test_split\n",
    "import pandas as pd # data processing, CSV file I/O (e.g. pd.read_csv)\n",
    "import os\n",
    "import gc\n",
    "import matplotlib.pyplot as plt\n",
    "import seaborn as sns\n",
    "import xgboost as xgb\n",
    "#from imblearn.over_sampling import SMOTE\n",
    "print ('welcome')"
   ]
  },
  {
   "cell_type": "code",
   "execution_count": 203,
   "metadata": {},
   "outputs": [
    {
     "name": "stdout",
     "output_type": "stream",
     "text": [
      "files read\n"
     ]
    }
   ],
   "source": [
    "df_c_train = pd.read_csv('D://Analytics Vidhya/McKinsey/Set1_train.csv')\n",
    "df_c_test = pd.read_csv('D://Analytics Vidhya/McKinsey/Set1_test.csv')\n",
    "print ('files read')"
   ]
  },
  {
   "cell_type": "code",
   "execution_count": 228,
   "metadata": {
    "collapsed": true
   },
   "outputs": [],
   "source": [
    "x_train = pd.DataFrame()\n",
    "x_test = pd.DataFrame()\n",
    "y_train = pd.DataFrame()\n",
    "z_train = pd.DataFrame()"
   ]
  },
  {
   "cell_type": "code",
   "execution_count": 229,
   "metadata": {},
   "outputs": [
    {
     "name": "stdout",
     "output_type": "stream",
     "text": [
      "welcome\n"
     ]
    }
   ],
   "source": [
    "#x_train['Day'] = df_c_train['Day']\n",
    "#x_train['weekDay'] = df_c_train['weekDay']\n",
    "#x_train['Month'] = df_c_train['Month']\n",
    "x_train['Day'] = df_c_train['Day']\n",
    "#x_train['Year'] = df_c_train['Year']\n",
    "x_train['t'] = df_c_train['t']\n",
    "x_train['t2'] = df_c_train['t2']\n",
    "x_train['Hour'] = df_c_train['Hour']\n",
    "#x_train['Junction'] = df_c_train['Junction']\n",
    "print ('welcome')"
   ]
  },
  {
   "cell_type": "code",
   "execution_count": 230,
   "metadata": {},
   "outputs": [
    {
     "data": {
      "text/plain": [
       "Index(['Day', 't', 't2', 'Hour'], dtype='object')"
      ]
     },
     "execution_count": 230,
     "metadata": {},
     "output_type": "execute_result"
    }
   ],
   "source": [
    "x_train.columns\n"
   ]
  },
  {
   "cell_type": "code",
   "execution_count": 231,
   "metadata": {},
   "outputs": [],
   "source": [
    "month_dummies = pd.get_dummies(df_c_train['Month'])\n",
    "year_dummies = pd.get_dummies(df_c_train['Year'])\n",
    "week_dummies = pd.get_dummies(df_c_train['weekDay'])\n",
    "junction_dummies = pd.get_dummies(df_c_train['Junction'])\n",
    "day_dummies = pd.get_dummies(df_c_train['Day'])"
   ]
  },
  {
   "cell_type": "code",
   "execution_count": 232,
   "metadata": {
    "collapsed": true
   },
   "outputs": [],
   "source": [
    "x_train=pd.concat([x_train, month_dummies,year_dummies, week_dummies,junction_dummies,day_dummies], axis=1, join_axes=[x_train.index])"
   ]
  },
  {
   "cell_type": "code",
   "execution_count": 233,
   "metadata": {},
   "outputs": [
    {
     "data": {
      "text/html": [
       "<div>\n",
       "<style>\n",
       "    .dataframe thead tr:only-child th {\n",
       "        text-align: right;\n",
       "    }\n",
       "\n",
       "    .dataframe thead th {\n",
       "        text-align: left;\n",
       "    }\n",
       "\n",
       "    .dataframe tbody tr th {\n",
       "        vertical-align: top;\n",
       "    }\n",
       "</style>\n",
       "<table border=\"1\" class=\"dataframe\">\n",
       "  <thead>\n",
       "    <tr style=\"text-align: right;\">\n",
       "      <th></th>\n",
       "      <th>Day</th>\n",
       "      <th>t</th>\n",
       "      <th>t2</th>\n",
       "      <th>Hour</th>\n",
       "      <th>April</th>\n",
       "      <th>August</th>\n",
       "      <th>December</th>\n",
       "      <th>February</th>\n",
       "      <th>January</th>\n",
       "      <th>July</th>\n",
       "      <th>...</th>\n",
       "      <th>22</th>\n",
       "      <th>23</th>\n",
       "      <th>24</th>\n",
       "      <th>25</th>\n",
       "      <th>26</th>\n",
       "      <th>27</th>\n",
       "      <th>28</th>\n",
       "      <th>29</th>\n",
       "      <th>30</th>\n",
       "      <th>31</th>\n",
       "    </tr>\n",
       "  </thead>\n",
       "  <tbody>\n",
       "    <tr>\n",
       "      <th>0</th>\n",
       "      <td>1</td>\n",
       "      <td>1</td>\n",
       "      <td>1</td>\n",
       "      <td>0</td>\n",
       "      <td>0</td>\n",
       "      <td>0</td>\n",
       "      <td>0</td>\n",
       "      <td>0</td>\n",
       "      <td>0</td>\n",
       "      <td>1</td>\n",
       "      <td>...</td>\n",
       "      <td>0</td>\n",
       "      <td>0</td>\n",
       "      <td>0</td>\n",
       "      <td>0</td>\n",
       "      <td>0</td>\n",
       "      <td>0</td>\n",
       "      <td>0</td>\n",
       "      <td>0</td>\n",
       "      <td>0</td>\n",
       "      <td>0</td>\n",
       "    </tr>\n",
       "    <tr>\n",
       "      <th>1</th>\n",
       "      <td>1</td>\n",
       "      <td>1</td>\n",
       "      <td>1</td>\n",
       "      <td>1</td>\n",
       "      <td>0</td>\n",
       "      <td>0</td>\n",
       "      <td>0</td>\n",
       "      <td>0</td>\n",
       "      <td>0</td>\n",
       "      <td>1</td>\n",
       "      <td>...</td>\n",
       "      <td>0</td>\n",
       "      <td>0</td>\n",
       "      <td>0</td>\n",
       "      <td>0</td>\n",
       "      <td>0</td>\n",
       "      <td>0</td>\n",
       "      <td>0</td>\n",
       "      <td>0</td>\n",
       "      <td>0</td>\n",
       "      <td>0</td>\n",
       "    </tr>\n",
       "    <tr>\n",
       "      <th>2</th>\n",
       "      <td>1</td>\n",
       "      <td>1</td>\n",
       "      <td>1</td>\n",
       "      <td>2</td>\n",
       "      <td>0</td>\n",
       "      <td>0</td>\n",
       "      <td>0</td>\n",
       "      <td>0</td>\n",
       "      <td>0</td>\n",
       "      <td>1</td>\n",
       "      <td>...</td>\n",
       "      <td>0</td>\n",
       "      <td>0</td>\n",
       "      <td>0</td>\n",
       "      <td>0</td>\n",
       "      <td>0</td>\n",
       "      <td>0</td>\n",
       "      <td>0</td>\n",
       "      <td>0</td>\n",
       "      <td>0</td>\n",
       "      <td>0</td>\n",
       "    </tr>\n",
       "    <tr>\n",
       "      <th>3</th>\n",
       "      <td>1</td>\n",
       "      <td>1</td>\n",
       "      <td>1</td>\n",
       "      <td>3</td>\n",
       "      <td>0</td>\n",
       "      <td>0</td>\n",
       "      <td>0</td>\n",
       "      <td>0</td>\n",
       "      <td>0</td>\n",
       "      <td>1</td>\n",
       "      <td>...</td>\n",
       "      <td>0</td>\n",
       "      <td>0</td>\n",
       "      <td>0</td>\n",
       "      <td>0</td>\n",
       "      <td>0</td>\n",
       "      <td>0</td>\n",
       "      <td>0</td>\n",
       "      <td>0</td>\n",
       "      <td>0</td>\n",
       "      <td>0</td>\n",
       "    </tr>\n",
       "    <tr>\n",
       "      <th>4</th>\n",
       "      <td>1</td>\n",
       "      <td>1</td>\n",
       "      <td>1</td>\n",
       "      <td>4</td>\n",
       "      <td>0</td>\n",
       "      <td>0</td>\n",
       "      <td>0</td>\n",
       "      <td>0</td>\n",
       "      <td>0</td>\n",
       "      <td>1</td>\n",
       "      <td>...</td>\n",
       "      <td>0</td>\n",
       "      <td>0</td>\n",
       "      <td>0</td>\n",
       "      <td>0</td>\n",
       "      <td>0</td>\n",
       "      <td>0</td>\n",
       "      <td>0</td>\n",
       "      <td>0</td>\n",
       "      <td>0</td>\n",
       "      <td>0</td>\n",
       "    </tr>\n",
       "  </tbody>\n",
       "</table>\n",
       "<p>5 rows × 60 columns</p>\n",
       "</div>"
      ],
      "text/plain": [
       "   Day  t  t2  Hour  April  August  December  February  January  July ...  22  \\\n",
       "0    1  1   1     0      0       0         0         0        0     1 ...   0   \n",
       "1    1  1   1     1      0       0         0         0        0     1 ...   0   \n",
       "2    1  1   1     2      0       0         0         0        0     1 ...   0   \n",
       "3    1  1   1     3      0       0         0         0        0     1 ...   0   \n",
       "4    1  1   1     4      0       0         0         0        0     1 ...   0   \n",
       "\n",
       "   23  24  25  26  27  28  29  30  31  \n",
       "0   0   0   0   0   0   0   0   0   0  \n",
       "1   0   0   0   0   0   0   0   0   0  \n",
       "2   0   0   0   0   0   0   0   0   0  \n",
       "3   0   0   0   0   0   0   0   0   0  \n",
       "4   0   0   0   0   0   0   0   0   0  \n",
       "\n",
       "[5 rows x 60 columns]"
      ]
     },
     "execution_count": 233,
     "metadata": {},
     "output_type": "execute_result"
    }
   ],
   "source": [
    "x_train.head()\n"
   ]
  },
  {
   "cell_type": "code",
   "execution_count": 234,
   "metadata": {},
   "outputs": [],
   "source": [
    "#x_test['Day'] = df_c_test['Day']\n",
    "#x_test['weekDay'] = df_c_test['weekDay']\n",
    "#x_test['Month'] = df_c_test['Month']\n",
    "x_test['Day'] = df_c_test['Day']\n",
    "#x_test['Year'] = df_c_test['Year']\n",
    "x_test['t'] = df_c_test['t']\n",
    "x_test['t2'] = df_c_test['t2']\n",
    "x_test['Hour'] = df_c_test['Hour']\n",
    "#x_test['Junction'] = df_c_test['Junction']\n",
    "test_month_dummies = pd.get_dummies(df_c_test['Month'])\n",
    "\n",
    "\n",
    "test_year_dummies = pd.get_dummies(df_c_test['Year'])\n",
    "\n",
    "test_week_dummies = pd.get_dummies(df_c_test['weekDay'])\n",
    "test_junction_dummies = pd.get_dummies(df_c_test['Junction'])\n",
    "test_day_dummies = pd.get_dummies(df_c_train['Day'])\n",
    "test_month_dummies['March']=0\n",
    "test_month_dummies['November']=0\n",
    "test_month_dummies['December']=0\n",
    "test_month_dummies['February']=0\n",
    "test_month_dummies['May']=0\n",
    "test_month_dummies['April']=0\n",
    "test_month_dummies['June']=0\n",
    "test_month_dummies['January']=0\n",
    "test_year_dummies['Y2016']=0\n"
   ]
  },
  {
   "cell_type": "code",
   "execution_count": 235,
   "metadata": {},
   "outputs": [],
   "source": [
    "test_month_dummies = test_month_dummies.reindex_axis(sorted(test_month_dummies.columns), axis=1)\n",
    "#test_year_dummies = test_year_dummies.reindex_axis(sorted(test_year_dummies.columns), axis=1)\n",
    "#test_year_dummies = test_year_dummies.reindex_axis(sorted(test_year_dummies.columns), axis=1, inplace=True)\n",
    "test_year_dummies = test_year_dummies.sort_index(axis=1)\n",
    "\n"
   ]
  },
  {
   "cell_type": "code",
   "execution_count": 236,
   "metadata": {},
   "outputs": [
    {
     "data": {
      "text/plain": [
       "Index([      'Day',         't',        't2',      'Hour',     'April',\n",
       "          'August',  'December',  'February',   'January',      'July',\n",
       "            'June',     'March',       'May',  'November',   'October',\n",
       "       'September',     'Y2016',     'Y2017',    'Friday',    'Monday',\n",
       "        'Saturday',    'Sunday',  'Thursday',   'Tuesday', 'Wednesday',\n",
       "              'J1',        'J2',        'J3',        'J4',           1,\n",
       "                 2,           3,           4,           5,           6,\n",
       "                 7,           8,           9,          10,          11,\n",
       "                12,          13,          14,          15,          16,\n",
       "                17,          18,          19,          20,          21,\n",
       "                22,          23,          24,          25,          26,\n",
       "                27,          28,          29,          30,          31],\n",
       "      dtype='object')"
      ]
     },
     "execution_count": 236,
     "metadata": {},
     "output_type": "execute_result"
    }
   ],
   "source": [
    "x_test=pd.concat([x_test, test_month_dummies,test_year_dummies, test_week_dummies,test_junction_dummies,test_day_dummies], axis=1, join_axes=[x_test.index])\n",
    "x_test.columns\n"
   ]
  },
  {
   "cell_type": "code",
   "execution_count": null,
   "metadata": {
    "collapsed": true
   },
   "outputs": [],
   "source": []
  },
  {
   "cell_type": "code",
   "execution_count": 237,
   "metadata": {},
   "outputs": [
    {
     "name": "stdout",
     "output_type": "stream",
     "text": [
      "welcome\n"
     ]
    }
   ],
   "source": [
    "y_train['Vehicles'] = df_c_train['Vehicles']\n",
    "print ('welcome')"
   ]
  },
  {
   "cell_type": "code",
   "execution_count": 238,
   "metadata": {},
   "outputs": [
    {
     "name": "stdout",
     "output_type": "stream",
     "text": [
      "[0]\ttrain-rmse:34.3566\n",
      "Will train until train-rmse hasn't improved in 50 rounds.\n",
      "[10]\ttrain-rmse:28.3715\n",
      "[20]\ttrain-rmse:23.5321\n",
      "[30]\ttrain-rmse:19.6319\n",
      "[40]\ttrain-rmse:16.5061\n",
      "[50]\ttrain-rmse:14.0198\n",
      "[60]\ttrain-rmse:12.0519\n",
      "[70]\ttrain-rmse:10.5129\n",
      "[80]\ttrain-rmse:9.32027\n",
      "[90]\ttrain-rmse:8.40659\n",
      "[100]\ttrain-rmse:7.70848\n",
      "[110]\ttrain-rmse:7.17727\n",
      "[120]\ttrain-rmse:6.77259\n",
      "[130]\ttrain-rmse:6.45821\n",
      "[140]\ttrain-rmse:6.21902\n",
      "[150]\ttrain-rmse:6.02628\n",
      "[160]\ttrain-rmse:5.87021\n",
      "[170]\ttrain-rmse:5.73651\n",
      "[180]\ttrain-rmse:5.61239\n",
      "[190]\ttrain-rmse:5.516\n",
      "[200]\ttrain-rmse:5.42262\n",
      "[210]\ttrain-rmse:5.34306\n",
      "[220]\ttrain-rmse:5.26727\n",
      "[230]\ttrain-rmse:5.20407\n",
      "[240]\ttrain-rmse:5.15308\n",
      "[250]\ttrain-rmse:5.10982\n",
      "[260]\ttrain-rmse:5.07228\n",
      "[270]\ttrain-rmse:5.0363\n",
      "[280]\ttrain-rmse:4.99984\n",
      "[290]\ttrain-rmse:4.96034\n",
      "[300]\ttrain-rmse:4.92831\n",
      "[310]\ttrain-rmse:4.89473\n",
      "[320]\ttrain-rmse:4.86505\n",
      "[330]\ttrain-rmse:4.83856\n",
      "[340]\ttrain-rmse:4.81474\n",
      "[350]\ttrain-rmse:4.78318\n",
      "[360]\ttrain-rmse:4.75593\n",
      "[370]\ttrain-rmse:4.72938\n",
      "[380]\ttrain-rmse:4.69625\n",
      "[390]\ttrain-rmse:4.6674\n",
      "[400]\ttrain-rmse:4.64466\n",
      "[410]\ttrain-rmse:4.62654\n",
      "[420]\ttrain-rmse:4.60548\n",
      "[430]\ttrain-rmse:4.58513\n",
      "[440]\ttrain-rmse:4.56702\n",
      "[450]\ttrain-rmse:4.54591\n",
      "[460]\ttrain-rmse:4.52485\n",
      "[470]\ttrain-rmse:4.50237\n",
      "[480]\ttrain-rmse:4.48488\n",
      "[490]\ttrain-rmse:4.46608\n",
      "[500]\ttrain-rmse:4.447\n",
      "[510]\ttrain-rmse:4.4232\n",
      "[520]\ttrain-rmse:4.40347\n",
      "[530]\ttrain-rmse:4.38105\n",
      "[540]\ttrain-rmse:4.3619\n",
      "[550]\ttrain-rmse:4.33925\n",
      "[560]\ttrain-rmse:4.32145\n",
      "[570]\ttrain-rmse:4.30681\n",
      "[580]\ttrain-rmse:4.28907\n",
      "[590]\ttrain-rmse:4.26815\n",
      "[600]\ttrain-rmse:4.23974\n",
      "[610]\ttrain-rmse:4.2172\n",
      "[620]\ttrain-rmse:4.19876\n",
      "[630]\ttrain-rmse:4.17669\n",
      "[640]\ttrain-rmse:4.16212\n",
      "[650]\ttrain-rmse:4.1465\n",
      "[660]\ttrain-rmse:4.13039\n",
      "[670]\ttrain-rmse:4.11468\n",
      "[680]\ttrain-rmse:4.10117\n",
      "[690]\ttrain-rmse:4.08738\n",
      "[700]\ttrain-rmse:4.073\n",
      "[710]\ttrain-rmse:4.05821\n",
      "[720]\ttrain-rmse:4.03758\n",
      "[730]\ttrain-rmse:4.02256\n",
      "[740]\ttrain-rmse:4.01067\n",
      "[750]\ttrain-rmse:3.9952\n",
      "[760]\ttrain-rmse:3.98287\n",
      "[770]\ttrain-rmse:3.96938\n",
      "[780]\ttrain-rmse:3.95276\n",
      "[790]\ttrain-rmse:3.93951\n",
      "[800]\ttrain-rmse:3.92819\n",
      "[810]\ttrain-rmse:3.91805\n",
      "[820]\ttrain-rmse:3.90584\n",
      "[830]\ttrain-rmse:3.89066\n",
      "[840]\ttrain-rmse:3.8781\n",
      "[850]\ttrain-rmse:3.86541\n",
      "[860]\ttrain-rmse:3.8525\n",
      "[870]\ttrain-rmse:3.84106\n",
      "[880]\ttrain-rmse:3.8315\n",
      "[890]\ttrain-rmse:3.81894\n",
      "[900]\ttrain-rmse:3.80753\n",
      "[910]\ttrain-rmse:3.79754\n",
      "[920]\ttrain-rmse:3.78934\n",
      "[930]\ttrain-rmse:3.7815\n",
      "[940]\ttrain-rmse:3.77302\n",
      "[950]\ttrain-rmse:3.7636\n",
      "[960]\ttrain-rmse:3.75484\n",
      "[970]\ttrain-rmse:3.74726\n",
      "[980]\ttrain-rmse:3.73967\n",
      "[990]\ttrain-rmse:3.72984\n",
      "[1000]\ttrain-rmse:3.71797\n",
      "[1010]\ttrain-rmse:3.70807\n",
      "[1020]\ttrain-rmse:3.69982\n",
      "[1030]\ttrain-rmse:3.68985\n",
      "[1040]\ttrain-rmse:3.6806\n",
      "[1050]\ttrain-rmse:3.67116\n",
      "[1060]\ttrain-rmse:3.6624\n",
      "[1070]\ttrain-rmse:3.65158\n",
      "[1080]\ttrain-rmse:3.64604\n",
      "[1090]\ttrain-rmse:3.63864\n",
      "[1100]\ttrain-rmse:3.63088\n",
      "[1110]\ttrain-rmse:3.6247\n",
      "[1120]\ttrain-rmse:3.61346\n",
      "[1130]\ttrain-rmse:3.60649\n",
      "[1140]\ttrain-rmse:3.60047\n",
      "[1150]\ttrain-rmse:3.59458\n",
      "[1160]\ttrain-rmse:3.58947\n",
      "[1170]\ttrain-rmse:3.58328\n",
      "[1180]\ttrain-rmse:3.57604\n",
      "[1190]\ttrain-rmse:3.56825\n",
      "[1200]\ttrain-rmse:3.56005\n",
      "[1210]\ttrain-rmse:3.55569\n",
      "[1220]\ttrain-rmse:3.55004\n",
      "[1230]\ttrain-rmse:3.54243\n",
      "[1240]\ttrain-rmse:3.53466\n",
      "[1250]\ttrain-rmse:3.52704\n",
      "[1260]\ttrain-rmse:3.52009\n",
      "[1270]\ttrain-rmse:3.51473\n",
      "[1280]\ttrain-rmse:3.50774\n",
      "[1290]\ttrain-rmse:3.5004\n",
      "[1300]\ttrain-rmse:3.49524\n",
      "[1310]\ttrain-rmse:3.48886\n",
      "[1320]\ttrain-rmse:3.48194\n",
      "[1330]\ttrain-rmse:3.47561\n",
      "[1340]\ttrain-rmse:3.4667\n",
      "[1350]\ttrain-rmse:3.45655\n",
      "[1360]\ttrain-rmse:3.44966\n",
      "[1370]\ttrain-rmse:3.44124\n",
      "[1380]\ttrain-rmse:3.43049\n",
      "[1390]\ttrain-rmse:3.42366\n",
      "[1400]\ttrain-rmse:3.41866\n",
      "[1410]\ttrain-rmse:3.41348\n",
      "[1420]\ttrain-rmse:3.40843\n",
      "[1430]\ttrain-rmse:3.40308\n",
      "[1440]\ttrain-rmse:3.39795\n",
      "[1450]\ttrain-rmse:3.39154\n",
      "[1460]\ttrain-rmse:3.38518\n",
      "[1470]\ttrain-rmse:3.38091\n",
      "[1480]\ttrain-rmse:3.37702\n",
      "[1490]\ttrain-rmse:3.37195\n",
      "[1500]\ttrain-rmse:3.36425\n",
      "[1510]\ttrain-rmse:3.35781\n",
      "[1520]\ttrain-rmse:3.35276\n",
      "[1530]\ttrain-rmse:3.34611\n",
      "[1540]\ttrain-rmse:3.34095\n",
      "[1550]\ttrain-rmse:3.33648\n",
      "[1560]\ttrain-rmse:3.3324\n",
      "[1570]\ttrain-rmse:3.32798\n",
      "[1580]\ttrain-rmse:3.32362\n",
      "[1590]\ttrain-rmse:3.31647\n",
      "[1600]\ttrain-rmse:3.31121\n",
      "[1610]\ttrain-rmse:3.30388\n",
      "[1620]\ttrain-rmse:3.29584\n",
      "[1630]\ttrain-rmse:3.29055\n",
      "[1640]\ttrain-rmse:3.28469\n",
      "[1650]\ttrain-rmse:3.28041\n",
      "[1660]\ttrain-rmse:3.27699\n",
      "[1670]\ttrain-rmse:3.27184\n",
      "[1680]\ttrain-rmse:3.26899\n",
      "[1690]\ttrain-rmse:3.26556\n",
      "[1699]\ttrain-rmse:3.26247\n"
     ]
    }
   ],
   "source": [
    "import xgboost as xgb\n",
    "\n",
    "# Set our parameters for xgboost\n",
    "params = {}\n",
    "#params['objective'] = 'count:poisson'\n",
    "params['objective'] = 'reg:linear'\n",
    "params['eval_metric'] = 'rmse'\n",
    "#params['eval_metric'] = 'logloss'\n",
    "params['eta'] = 0.02\n",
    "params['max_depth'] = 6\n",
    "\n",
    "d_train = xgb.DMatrix(x_train, label=y_train)\n",
    "\n",
    "watchlist = [(d_train, 'train')]\n",
    "\n",
    "target_model = xgb.train(params, d_train, 1700, watchlist, early_stopping_rounds=50, verbose_eval=10)"
   ]
  },
  {
   "cell_type": "code",
   "execution_count": 239,
   "metadata": {},
   "outputs": [],
   "source": [
    "d_test = xgb.DMatrix(x_test)\n",
    "target_test = target_model.predict(d_test)"
   ]
  },
  {
   "cell_type": "code",
   "execution_count": 240,
   "metadata": {},
   "outputs": [
    {
     "name": "stdout",
     "output_type": "stream",
     "text": [
      "hello\n"
     ]
    }
   ],
   "source": [
    "sub = pd.DataFrame()\n",
    "sub['target'] = target_test\n",
    "\n",
    "sub.to_csv('D://Analytics Vidhya/McKinsey/Mckinsey.csv', index=False)\n",
    "print (\"hello\")"
   ]
  },
  {
   "cell_type": "code",
   "execution_count": null,
   "metadata": {
    "collapsed": true
   },
   "outputs": [],
   "source": []
  },
  {
   "cell_type": "code",
   "execution_count": null,
   "metadata": {
    "collapsed": true
   },
   "outputs": [],
   "source": []
  },
  {
   "cell_type": "code",
   "execution_count": null,
   "metadata": {
    "collapsed": true
   },
   "outputs": [],
   "source": []
  }
 ],
 "metadata": {
  "kernelspec": {
   "display_name": "Python 3",
   "language": "python",
   "name": "python3"
  },
  "language_info": {
   "codemirror_mode": {
    "name": "ipython",
    "version": 3
   },
   "file_extension": ".py",
   "mimetype": "text/x-python",
   "name": "python",
   "nbconvert_exporter": "python",
   "pygments_lexer": "ipython3",
   "version": "3.6.1"
  }
 },
 "nbformat": 4,
 "nbformat_minor": 2
}
